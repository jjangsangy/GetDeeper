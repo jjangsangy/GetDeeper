{
 "cells": [
  {
   "cell_type": "markdown",
   "metadata": {
    "run_control": {
     "breakpoint": false,
     "read_only": false,
     "state": "d"
    }
   },
   "source": [
    "# Yelp Dataset Challenge"
   ]
  },
  {
   "cell_type": "markdown",
   "metadata": {
    "run_control": {
     "breakpoint": false,
     "state": "n"
    }
   },
   "source": [
    "# Overview\n",
    "\n",
    "The dataset is a single gzip-compressed file, composed of one json-object per line. Every object contains a 'type' field, which tells you whether it is a business, a user, or a review.\n",
    "\n",
    "--------------\n",
    "\n",
    "\n",
    "## Business Objects\n",
    "\n",
    "Business objects contain basic information about local businesses. The 'business_id' field can be used with the Yelp API to fetch even more information for visualizations, but note that you'll still need to comply with the API TOS. The fields are as follows:\n",
    "\n",
    "```json\n",
    "{\n",
    "  'type': 'business',\n",
    "  'business_id': (a unique identifier for this business),\n",
    "  'name': (the full business name),\n",
    "  'neighborhoods': (a list of neighborhood names, might be empty),\n",
    "  'full_address': (localized address),\n",
    "  'city': (city),\n",
    "  'state': (state),\n",
    "  'latitude': (latitude),\n",
    "  'longitude': (longitude),\n",
    "  'stars': (star rating, rounded to half-stars),\n",
    "  'review_count': (review count),\n",
    "  'photo_url': (photo url),\n",
    "  'categories': [(localized category names)]\n",
    "  'open': (is the business still open for business?),\n",
    "  'schools': (nearby universities),\n",
    "  'url': (yelp url)\n",
    "}\n",
    "```\n",
    "\n",
    "-------\n",
    "        \n",
    "## Review Objects\n",
    "\n",
    "Review objects contain the review text, the star rating, and information on votes Yelp users have cast on the review. Use user_id to associate this review with others by the same user. Use business_id to associate this review with others of the same business.\n",
    "\n",
    "```json\n",
    "{\n",
    "  'type': 'review',\n",
    "  'business_id': (the identifier of the reviewed business),\n",
    "  'user_id': (the identifier of the authoring user),\n",
    "  'stars': (star rating, integer 1-5),\n",
    "  'text': (review text),\n",
    "  'date': (date, formatted like '2011-04-19'),\n",
    "  'votes': {\n",
    "    'useful': (count of useful votes),\n",
    "    'funny': (count of funny votes),\n",
    "    'cool': (count of cool votes)\n",
    "  }\n",
    "}\n",
    "```\n",
    "\n",
    "--------\n",
    "\n",
    "## User Objects\n",
    "\n",
    "User objects contain aggregate information about a single user across all of Yelp (including businesses and reviews not in this dataset).\n",
    "\n",
    "```json\n",
    "{\n",
    "  'type': 'user',\n",
    "  'user_id': (unique user identifier),\n",
    "  'name': (first name, last initial, like 'Matt J.'),\n",
    "  'review_count': (review count),\n",
    "  'average_stars': (floating point average, like 4.31),\n",
    "  'votes': {\n",
    "    'useful': (count of useful votes across all reviews),\n",
    "    'funny': (count of funny votes across all reviews),\n",
    "    'cool': (count of cool votes across all reviews)\n",
    "  }\n",
    "}\n",
    "```"
   ]
  },
  {
   "cell_type": "markdown",
   "metadata": {
    "run_control": {
     "breakpoint": false,
     "state": "n"
    }
   },
   "source": [
    "![](http://i.imgur.com/QEHb5lU.gif)"
   ]
  },
  {
   "cell_type": "markdown",
   "metadata": {
    "run_control": {
     "breakpoint": false,
     "state": "n"
    }
   },
   "source": [
    "The task is to predict the 'star rating' for a restaurant for a given user. "
   ]
  },
  {
   "cell_type": "markdown",
   "metadata": {
    "run_control": {
     "breakpoint": false,
     "state": "n"
    }
   },
   "source": [
    "The dataset comprises three tables that cover\n",
    "\n",
    "- 11,537 businesses\n",
    "- 8,282 check-ins\n",
    "- 43,873 users\n",
    "- 229,907 reviews. "
   ]
  },
  {
   "cell_type": "markdown",
   "metadata": {
    "run_control": {
     "breakpoint": false,
     "state": "n"
    }
   },
   "source": [
    "Link to [Official Yelp Website](http://www.yelp.com/dataset_challenge)"
   ]
  },
  {
   "cell_type": "code",
   "execution_count": 7,
   "metadata": {
    "collapsed": false,
    "input_collapsed": true,
    "run_control": {
     "breakpoint": false,
     "read_only": false,
     "state": "n"
    }
   },
   "outputs": [],
   "source": [
    "import os\n",
    "import sys\n",
    "import operator\n",
    "import functools\n",
    "import itertools\n",
    "import boto\n",
    "import warnings\n",
    "import json\n",
    "import pandas as pd\n",
    "\n",
    "import matplotlib.pyplot as plt\n",
    "import graphlab as gl\n",
    "\n",
    "from textblob import TextBlob\n",
    "from os.path import join as jp\n",
    "\n",
    "try:\n",
    "    from configparser import ConfigParser\n",
    "except ImportError:\n",
    "    from ConfigParser import ConfigParser\n",
    "    \n",
    "gl.canvas.set_target('ipynb')"
   ]
  },
  {
   "cell_type": "markdown",
   "metadata": {
    "run_control": {
     "breakpoint": false,
     "state": "n"
    }
   },
   "source": [
    "## Technical Challenges\n",
    "\n",
    "1. Big Data... somewhat\n",
    "    - More like _Medium Data_\n",
    "2. Highly Networked Data Structures\n",
    "3. User Sentiment Analysis"
   ]
  },
  {
   "cell_type": "markdown",
   "metadata": {
    "run_control": {
     "breakpoint": false,
     "state": "n"
    }
   },
   "source": [
    "![](http://i.imgur.com/LRuQh0N.gif)"
   ]
  },
  {
   "cell_type": "markdown",
   "metadata": {
    "run_control": {
     "breakpoint": false,
     "state": "n"
    }
   },
   "source": [
    "## Proposed Solutions\n",
    "\n",
    "1. Streaming and Lazy Evaluation. Also utilize compression.\n",
    "2. Use Graph Algorithms and parsing strategies\n",
    "3. Magic!??"
   ]
  },
  {
   "cell_type": "markdown",
   "metadata": {
    "run_control": {
     "breakpoint": false,
     "state": "n"
    }
   },
   "source": [
    "## S3 Remote File Streaming"
   ]
  },
  {
   "cell_type": "code",
   "execution_count": 18,
   "metadata": {
    "collapsed": true,
    "run_control": {
     "breakpoint": false,
     "state": "n"
    }
   },
   "outputs": [],
   "source": [
    "from IPython.display import *"
   ]
  },
  {
   "cell_type": "code",
   "execution_count": 3,
   "metadata": {
    "collapsed": false,
    "run_control": {
     "breakpoint": false,
     "read_only": false,
     "state": "n"
    }
   },
   "outputs": [],
   "source": [
    "def aws_config(cfg):\n",
    "    \"\"\"\n",
    "    Queries local environment for aws configurations\n",
    "    \"\"\"\n",
    "    home, user = os.getenv('HOME'), os.getlogin()\n",
    "    valid_user = user in cfg.sections()\n",
    "\n",
    "    return user if valid_user else cfg.sections()[0]\n",
    "\n",
    "def s3_signin(**auth):\n",
    "    \"\"\"\n",
    "    Convenience function for validating keys  and providing\n",
    "    access to bucket shares.\n",
    "    \n",
    "    Returns S3Object\n",
    "    \"\"\"\n",
    "    token_ids  = 'aws_access_key_id', 'aws_secret_access_key'\n",
    "\n",
    "    cfg = ConfigParser()\n",
    "    cfg.read(jp(os.getenv('HOME'), '.aws', 'credentials'))\n",
    "\n",
    "    account    = itertools.repeat(aws_config(cfg), 2)\n",
    "    valid_auth = all(auth.has_key(i) for i in token_ids)\n",
    "    token      = zip(account, token_ids) if not valid_auth else [token_ids]\n",
    "    store      = cfg if not auth else auth\n",
    "    \n",
    "    user_id    = dict(zip(token_ids, map(lambda t: store.get(*t), token)))\n",
    "    \n",
    "    if not all(user_id.values()):\n",
    "        raise ValueError('No valid authorization found')\n",
    "\n",
    "    return boto.connect_s3(**user_id)"
   ]
  },
  {
   "cell_type": "markdown",
   "metadata": {
    "run_control": {
     "breakpoint": false,
     "state": "n"
    }
   },
   "source": [
    "## Key and Configuration Management"
   ]
  },
  {
   "cell_type": "code",
   "execution_count": null,
   "metadata": {
    "collapsed": true,
    "run_control": {
     "breakpoint": false,
     "read_only": false,
     "state": "n"
    }
   },
   "outputs": [],
   "source": [
    "s3 = s3_signin()\n",
    "\n",
    "gl.aws.set_credentials(s3.gs_access_key_id, s3.gs_secret_access_key)"
   ]
  },
  {
   "cell_type": "markdown",
   "metadata": {
    "run_control": {
     "breakpoint": false,
     "state": "n"
    }
   },
   "source": [
    "## Remote JSON to DataFrame"
   ]
  },
  {
   "cell_type": "code",
   "execution_count": null,
   "metadata": {
    "collapsed": true,
    "run_control": {
     "breakpoint": false,
     "read_only": false,
     "state": "d"
    }
   },
   "outputs": [],
   "source": [
    "def remote_json_loader(filename):\n",
    "    \"\"\"\n",
    "    Load JSON from a remote data store.\n",
    "    \"\"\"\n",
    "    sf = gl.SFrame.read_csv(filename, delimiter='\\n', header=False)\n",
    "    return sf.unpack('X1', column_name_prefix='')\n",
    "\n",
    "def gen_data_url(s3, bucket , dataset):\n",
    "    s3_dir   = s3.get_bucket(bucket)\n",
    "    s3_urls  = [\n",
    "        '/'.join(['s3:/', s3_dir.name, d.name])\n",
    "                for d in s3_dir.list(dataset)\n",
    "    ]\n",
    "    for url in s3_urls:\n",
    "        yield url\n",
    "\n",
    "def flatten(sf):\n",
    "    \"\"\"\n",
    "    Flatten nested SFrame DataStructure. \n",
    "    \"\"\"\n",
    "    dtypes = dict(zip(sf.column_names(), gl.SFrame.dtype(sf)))\n",
    "    cols = [k for k,v in dtypes.items() if v in [dict, list]]\n",
    "    return sf[cols]"
   ]
  },
  {
   "cell_type": "markdown",
   "metadata": {
    "run_control": {
     "breakpoint": false,
     "state": "n"
    }
   },
   "source": [
    "![](http://i.imgur.com/JzaJ7s6.gif)"
   ]
  },
  {
   "cell_type": "markdown",
   "metadata": {
    "run_control": {
     "breakpoint": false,
     "state": "n"
    }
   },
   "source": [
    "# Holy Crap Evil Unicorn Power"
   ]
  },
  {
   "cell_type": "code",
   "execution_count": 4,
   "metadata": {
    "collapsed": false,
    "run_control": {
     "breakpoint": false,
     "read_only": false,
     "state": "d"
    }
   },
   "outputs": [
    {
     "name": "stdout",
     "output_type": "stream",
     "text": [
      "PROGRESS: Downloading https://s3-us-west-1.amazonaws.com/ds3-machine-learning/yelp/business.csv to /var/tmp/graphlab-jjangsangy/3456/000000.csv\n",
      "PROGRESS: Finished parsing file https://s3-us-west-1.amazonaws.com/ds3-machine-learning/yelp/business.csv\n",
      "PROGRESS: Parsing completed. Parsed 100 lines in 0.114366 secs.\n",
      "------------------------------------------------------\n",
      "Inferred types from first line of file as \n",
      "column_type_hints=[str,list,str,str,float,float,str,int,int,float,str,str]\n",
      "If parsing fails due to incorrect types, you can correct\n",
      "the inferred type list above and pass it to read_csv in\n",
      "the column_type_hints argument\n",
      "------------------------------------------------------\n",
      "PROGRESS: Finished parsing file https://s3-us-west-1.amazonaws.com/ds3-machine-learning/yelp/business.csv\n",
      "PROGRESS: Parsing completed. Parsed 11537 lines in 0.115099 secs.\n",
      "PROGRESS: Downloading https://s3-us-west-1.amazonaws.com/ds3-machine-learning/yelp/user.csv to /var/tmp/graphlab-jjangsangy/3456/000001.csv\n",
      "PROGRESS: Finished parsing file https://s3-us-west-1.amazonaws.com/ds3-machine-learning/yelp/user.csv\n",
      "PROGRESS: Parsing completed. Parsed 100 lines in 0.085561 secs.\n",
      "------------------------------------------------------\n",
      "Inferred types from first line of file as \n",
      "column_type_hints=[float,str,int,str,str,int,int,int]\n",
      "If parsing fails due to incorrect types, you can correct\n",
      "the inferred type list above and pass it to read_csv in\n",
      "the column_type_hints argument\n",
      "------------------------------------------------------\n",
      "PROGRESS: Finished parsing file https://s3-us-west-1.amazonaws.com/ds3-machine-learning/yelp/user.csv\n",
      "PROGRESS: Parsing completed. Parsed 43873 lines in 0.114571 secs.\n",
      "PROGRESS: Downloading https://s3-us-west-1.amazonaws.com/ds3-machine-learning/yelp/review.csv to /var/tmp/graphlab-jjangsangy/3456/000002.csv\n",
      "PROGRESS: Finished parsing file https://s3-us-west-1.amazonaws.com/ds3-machine-learning/yelp/review.csv\n",
      "PROGRESS: Parsing completed. Parsed 100 lines in 1.67836 secs.\n",
      "------------------------------------------------------\n",
      "Inferred types from first line of file as \n",
      "column_type_hints=[str,str,str,int,str,str,str,dict,int,int,int]\n",
      "If parsing fails due to incorrect types, you can correct\n",
      "the inferred type list above and pass it to read_csv in\n",
      "the column_type_hints argument\n",
      "------------------------------------------------------\n",
      "PROGRESS: Read 61212 lines. Lines per second: 29778.6\n",
      "PROGRESS: Finished parsing file https://s3-us-west-1.amazonaws.com/ds3-machine-learning/yelp/review.csv\n",
      "PROGRESS: Parsing completed. Parsed 229907 lines in 5.48188 secs.\n"
     ]
    }
   ],
   "source": [
    "# Data On the Internet!\n",
    "aws   = 'https://s3-us-west-1.amazonaws.com/ds3-machine-learning/yelp/{file}.csv'\n",
    "links = (aws.format(file=f) for f in ['business', 'user', 'review'])\n",
    "\n",
    "business, user, review = map(gl.SFrame.read_csv, links)"
   ]
  },
  {
   "cell_type": "markdown",
   "metadata": {
    "run_control": {
     "breakpoint": false,
     "state": "n"
    }
   },
   "source": [
    "![](http://i.imgur.com/xsDUgFE.png)"
   ]
  },
  {
   "cell_type": "markdown",
   "metadata": {
    "run_control": {
     "breakpoint": false,
     "state": "n"
    }
   },
   "source": [
    "# Fits in 8 GB of RAM!!"
   ]
  },
  {
   "cell_type": "markdown",
   "metadata": {
    "run_control": {
     "breakpoint": false,
     "state": "n"
    }
   },
   "source": [
    "![](http://i.imgur.com/uz3OXl9.gif)"
   ]
  },
  {
   "cell_type": "markdown",
   "metadata": {
    "run_control": {
     "breakpoint": false,
     "state": "n"
    }
   },
   "source": [
    "![](http://i.imgur.com/U40CbGB.gif)"
   ]
  },
  {
   "cell_type": "markdown",
   "metadata": {
    "run_control": {
     "breakpoint": false,
     "state": "n"
    }
   },
   "source": [
    "## Data Compression (Please..)\n",
    "\n",
    "Structures into a more compact data structure.\n",
    "\n",
    "We join together based on user and business keys and the old objects get garbage collected"
   ]
  },
  {
   "cell_type": "code",
   "execution_count": 52,
   "metadata": {
    "collapsed": false,
    "run_control": {
     "breakpoint": false,
     "read_only": false,
     "state": "d"
    }
   },
   "outputs": [],
   "source": [
    "review_business = review.join(business, how='inner', on='business_id')\n",
    "review_business = review_business.rename({'stars.1': 'business_avg_stars', \n",
    "                                          'type.1' : 'business_type',\n",
    "                                          'review_count': 'business_review_count'})"
   ]
  },
  {
   "cell_type": "code",
   "execution_count": 53,
   "metadata": {
    "collapsed": false,
    "run_control": {
     "breakpoint": false,
     "read_only": false,
     "state": "d"
    }
   },
   "outputs": [],
   "source": [
    "user_review = review_business.join(user, how='inner', on='user_id')\n",
    "user_review = user_review.rename({'name.1': 'user_name', \n",
    "                                  'type.1': 'user_type', \n",
    "                                  'average_stars': 'user_avg_stars',\n",
    "                                  'review_count' : 'user_review_count'})"
   ]
  },
  {
   "cell_type": "markdown",
   "metadata": {
    "run_control": {
     "breakpoint": false,
     "state": "n"
    }
   },
   "source": [
    "![](http://i.imgur.com/wggPoky.gif)"
   ]
  },
  {
   "cell_type": "code",
   "execution_count": 78,
   "metadata": {
    "collapsed": false,
    "run_control": {
     "breakpoint": false,
     "state": "n"
    }
   },
   "outputs": [],
   "source": [
    "yelp_reviews = user_review.join(review_business, on='review_id')"
   ]
  },
  {
   "cell_type": "markdown",
   "metadata": {
    "run_control": {
     "breakpoint": false,
     "state": "n"
    }
   },
   "source": [
    "# Split Testing and Training Set"
   ]
  },
  {
   "cell_type": "markdown",
   "metadata": {
    "run_control": {
     "breakpoint": false,
     "state": "n"
    }
   },
   "source": [
    "Data Science stuff"
   ]
  },
  {
   "cell_type": "code",
   "execution_count": 79,
   "metadata": {
    "collapsed": false,
    "run_control": {
     "breakpoint": false,
     "read_only": false,
     "state": "d"
    }
   },
   "outputs": [],
   "source": [
    "train_set, test_set = yelp_reviews.random_split(0.8, seed=1)"
   ]
  },
  {
   "cell_type": "code",
   "execution_count": 113,
   "metadata": {
    "collapsed": false,
    "run_control": {
     "breakpoint": false,
     "state": "n"
    }
   },
   "outputs": [
    {
     "data": {
      "text/html": [
       "<div style=\"max-height:1000px;max-width:1500px;overflow:auto;\"><table frame=\"box\" rules=\"cols\">\n",
       "    <tr>\n",
       "        <th style=\"padding-left: 1em; padding-right: 1em; text-align: center\">business_id</th>\n",
       "        <th style=\"padding-left: 1em; padding-right: 1em; text-align: center\">date</th>\n",
       "        <th style=\"padding-left: 1em; padding-right: 1em; text-align: center\">review_id</th>\n",
       "        <th style=\"padding-left: 1em; padding-right: 1em; text-align: center\">stars</th>\n",
       "        <th style=\"padding-left: 1em; padding-right: 1em; text-align: center\">text</th>\n",
       "        <th style=\"padding-left: 1em; padding-right: 1em; text-align: center\">type</th>\n",
       "    </tr>\n",
       "    <tr>\n",
       "        <td style=\"padding-left: 1em; padding-right: 1em; text-align: center; vertical-align: top\">9yKzy9PApeiPPOUJEtnvkg</td>\n",
       "        <td style=\"padding-left: 1em; padding-right: 1em; text-align: center; vertical-align: top\">2011-01-26</td>\n",
       "        <td style=\"padding-left: 1em; padding-right: 1em; text-align: center; vertical-align: top\">fWKvX83p0-ka4JS3dc6E5A</td>\n",
       "        <td style=\"padding-left: 1em; padding-right: 1em; text-align: center; vertical-align: top\">5</td>\n",
       "        <td style=\"padding-left: 1em; padding-right: 1em; text-align: center; vertical-align: top\">My wife took me here on<br>my birthday for break ...</td>\n",
       "        <td style=\"padding-left: 1em; padding-right: 1em; text-align: center; vertical-align: top\">review</td>\n",
       "    </tr>\n",
       "    <tr>\n",
       "        <td style=\"padding-left: 1em; padding-right: 1em; text-align: center; vertical-align: top\">ZRJwVLyzEJq1VAihDhYiow</td>\n",
       "        <td style=\"padding-left: 1em; padding-right: 1em; text-align: center; vertical-align: top\">2011-07-27</td>\n",
       "        <td style=\"padding-left: 1em; padding-right: 1em; text-align: center; vertical-align: top\">IjZ33sJrzXqU-0X6U8NwyA</td>\n",
       "        <td style=\"padding-left: 1em; padding-right: 1em; text-align: center; vertical-align: top\">5</td>\n",
       "        <td style=\"padding-left: 1em; padding-right: 1em; text-align: center; vertical-align: top\">I have no idea why some<br>people give bad reviews ...</td>\n",
       "        <td style=\"padding-left: 1em; padding-right: 1em; text-align: center; vertical-align: top\">review</td>\n",
       "    </tr>\n",
       "    <tr>\n",
       "        <td style=\"padding-left: 1em; padding-right: 1em; text-align: center; vertical-align: top\">6oRAC4uyJCsJl1X0WZpVSA</td>\n",
       "        <td style=\"padding-left: 1em; padding-right: 1em; text-align: center; vertical-align: top\">2012-06-14</td>\n",
       "        <td style=\"padding-left: 1em; padding-right: 1em; text-align: center; vertical-align: top\">IESLBzqUCLdSzSqm0eCSxQ</td>\n",
       "        <td style=\"padding-left: 1em; padding-right: 1em; text-align: center; vertical-align: top\">4</td>\n",
       "        <td style=\"padding-left: 1em; padding-right: 1em; text-align: center; vertical-align: top\">love the gyro plate. Rice<br>is so good and I also ...</td>\n",
       "        <td style=\"padding-left: 1em; padding-right: 1em; text-align: center; vertical-align: top\">review</td>\n",
       "    </tr>\n",
       "</table>\n",
       "<table frame=\"box\" rules=\"cols\">\n",
       "    <tr>\n",
       "        <th style=\"padding-left: 1em; padding-right: 1em; text-align: center\">user_id</th>\n",
       "        <th style=\"padding-left: 1em; padding-right: 1em; text-align: center\">votes</th>\n",
       "        <th style=\"padding-left: 1em; padding-right: 1em; text-align: center\">year</th>\n",
       "        <th style=\"padding-left: 1em; padding-right: 1em; text-align: center\">month</th>\n",
       "        <th style=\"padding-left: 1em; padding-right: 1em; text-align: center\">day</th>\n",
       "        <th style=\"padding-left: 1em; padding-right: 1em; text-align: center\">categories</th>\n",
       "        <th style=\"padding-left: 1em; padding-right: 1em; text-align: center\">city</th>\n",
       "    </tr>\n",
       "    <tr>\n",
       "        <td style=\"padding-left: 1em; padding-right: 1em; text-align: center; vertical-align: top\">rLtl8ZkDX5vH5nAx9C3q5Q</td>\n",
       "        <td style=\"padding-left: 1em; padding-right: 1em; text-align: center; vertical-align: top\">{'funny': 0, 'useful': 5,<br>'cool': 2} ...</td>\n",
       "        <td style=\"padding-left: 1em; padding-right: 1em; text-align: center; vertical-align: top\">2011</td>\n",
       "        <td style=\"padding-left: 1em; padding-right: 1em; text-align: center; vertical-align: top\">1</td>\n",
       "        <td style=\"padding-left: 1em; padding-right: 1em; text-align: center; vertical-align: top\">26</td>\n",
       "        <td style=\"padding-left: 1em; padding-right: 1em; text-align: center; vertical-align: top\">[Breakfast &amp; Brunch,<br>Restaurants] ...</td>\n",
       "        <td style=\"padding-left: 1em; padding-right: 1em; text-align: center; vertical-align: top\">Phoenix</td>\n",
       "    </tr>\n",
       "    <tr>\n",
       "        <td style=\"padding-left: 1em; padding-right: 1em; text-align: center; vertical-align: top\">0a2KyEL0d3Yb1V6aivbIuQ</td>\n",
       "        <td style=\"padding-left: 1em; padding-right: 1em; text-align: center; vertical-align: top\">{'funny': 0, 'useful': 0,<br>'cool': 0} ...</td>\n",
       "        <td style=\"padding-left: 1em; padding-right: 1em; text-align: center; vertical-align: top\">2011</td>\n",
       "        <td style=\"padding-left: 1em; padding-right: 1em; text-align: center; vertical-align: top\">7</td>\n",
       "        <td style=\"padding-left: 1em; padding-right: 1em; text-align: center; vertical-align: top\">27</td>\n",
       "        <td style=\"padding-left: 1em; padding-right: 1em; text-align: center; vertical-align: top\">[Italian, Pizza,<br>Restaurants] ...</td>\n",
       "        <td style=\"padding-left: 1em; padding-right: 1em; text-align: center; vertical-align: top\">Phoenix</td>\n",
       "    </tr>\n",
       "    <tr>\n",
       "        <td style=\"padding-left: 1em; padding-right: 1em; text-align: center; vertical-align: top\">0hT2KtfLiobPvh6cDC8JQg</td>\n",
       "        <td style=\"padding-left: 1em; padding-right: 1em; text-align: center; vertical-align: top\">{'funny': 0, 'useful': 1,<br>'cool': 0} ...</td>\n",
       "        <td style=\"padding-left: 1em; padding-right: 1em; text-align: center; vertical-align: top\">2012</td>\n",
       "        <td style=\"padding-left: 1em; padding-right: 1em; text-align: center; vertical-align: top\">6</td>\n",
       "        <td style=\"padding-left: 1em; padding-right: 1em; text-align: center; vertical-align: top\">14</td>\n",
       "        <td style=\"padding-left: 1em; padding-right: 1em; text-align: center; vertical-align: top\">[Middle Eastern,<br>Restaurants] ...</td>\n",
       "        <td style=\"padding-left: 1em; padding-right: 1em; text-align: center; vertical-align: top\">Tempe</td>\n",
       "    </tr>\n",
       "</table>\n",
       "<table frame=\"box\" rules=\"cols\">\n",
       "    <tr>\n",
       "        <th style=\"padding-left: 1em; padding-right: 1em; text-align: center\">full_address</th>\n",
       "        <th style=\"padding-left: 1em; padding-right: 1em; text-align: center\">latitude</th>\n",
       "        <th style=\"padding-left: 1em; padding-right: 1em; text-align: center\">longitude</th>\n",
       "        <th style=\"padding-left: 1em; padding-right: 1em; text-align: center\">name</th>\n",
       "        <th style=\"padding-left: 1em; padding-right: 1em; text-align: center\">open</th>\n",
       "        <th style=\"padding-left: 1em; padding-right: 1em; text-align: center\">business_review_count</th>\n",
       "        <th style=\"padding-left: 1em; padding-right: 1em; text-align: center\">business_avg_stars</th>\n",
       "    </tr>\n",
       "    <tr>\n",
       "        <td style=\"padding-left: 1em; padding-right: 1em; text-align: center; vertical-align: top\">6106 S 32nd St\\nPhoenix,<br>AZ 85042 ...</td>\n",
       "        <td style=\"padding-left: 1em; padding-right: 1em; text-align: center; vertical-align: top\">33.3908</td>\n",
       "        <td style=\"padding-left: 1em; padding-right: 1em; text-align: center; vertical-align: top\">-112.013</td>\n",
       "        <td style=\"padding-left: 1em; padding-right: 1em; text-align: center; vertical-align: top\">Morning Glory Cafe</td>\n",
       "        <td style=\"padding-left: 1em; padding-right: 1em; text-align: center; vertical-align: top\">1</td>\n",
       "        <td style=\"padding-left: 1em; padding-right: 1em; text-align: center; vertical-align: top\">116</td>\n",
       "        <td style=\"padding-left: 1em; padding-right: 1em; text-align: center; vertical-align: top\">4.0</td>\n",
       "    </tr>\n",
       "    <tr>\n",
       "        <td style=\"padding-left: 1em; padding-right: 1em; text-align: center; vertical-align: top\">4848 E Chandler<br>Blvd\\nPhoenix, AZ 85044 ...</td>\n",
       "        <td style=\"padding-left: 1em; padding-right: 1em; text-align: center; vertical-align: top\">33.3056</td>\n",
       "        <td style=\"padding-left: 1em; padding-right: 1em; text-align: center; vertical-align: top\">-111.979</td>\n",
       "        <td style=\"padding-left: 1em; padding-right: 1em; text-align: center; vertical-align: top\">Spinato's Pizzeria</td>\n",
       "        <td style=\"padding-left: 1em; padding-right: 1em; text-align: center; vertical-align: top\">1</td>\n",
       "        <td style=\"padding-left: 1em; padding-right: 1em; text-align: center; vertical-align: top\">102</td>\n",
       "        <td style=\"padding-left: 1em; padding-right: 1em; text-align: center; vertical-align: top\">4.0</td>\n",
       "    </tr>\n",
       "    <tr>\n",
       "        <td style=\"padding-left: 1em; padding-right: 1em; text-align: center; vertical-align: top\">1513 E  Apache<br>Blvd\\nTempe, AZ 85281 ...</td>\n",
       "        <td style=\"padding-left: 1em; padding-right: 1em; text-align: center; vertical-align: top\">33.4143</td>\n",
       "        <td style=\"padding-left: 1em; padding-right: 1em; text-align: center; vertical-align: top\">-111.913</td>\n",
       "        <td style=\"padding-left: 1em; padding-right: 1em; text-align: center; vertical-align: top\">Haji-Baba</td>\n",
       "        <td style=\"padding-left: 1em; padding-right: 1em; text-align: center; vertical-align: top\">1</td>\n",
       "        <td style=\"padding-left: 1em; padding-right: 1em; text-align: center; vertical-align: top\">265</td>\n",
       "        <td style=\"padding-left: 1em; padding-right: 1em; text-align: center; vertical-align: top\">4.5</td>\n",
       "    </tr>\n",
       "</table>\n",
       "<table frame=\"box\" rules=\"cols\">\n",
       "    <tr>\n",
       "        <th style=\"padding-left: 1em; padding-right: 1em; text-align: center\">state</th>\n",
       "        <th style=\"padding-left: 1em; padding-right: 1em; text-align: center\">business_type</th>\n",
       "        <th style=\"padding-left: 1em; padding-right: 1em; text-align: center\">user_avg_stars</th>\n",
       "        <th style=\"padding-left: 1em; padding-right: 1em; text-align: center\">user_name</th>\n",
       "        <th style=\"padding-left: 1em; padding-right: 1em; text-align: center\">user_review_count</th>\n",
       "        <th style=\"padding-left: 1em; padding-right: 1em; text-align: center\">user_type</th>\n",
       "        <th style=\"padding-left: 1em; padding-right: 1em; text-align: center\">votes_funny</th>\n",
       "        <th style=\"padding-left: 1em; padding-right: 1em; text-align: center\">votes_cool</th>\n",
       "        <th style=\"padding-left: 1em; padding-right: 1em; text-align: center\">votes_useful</th>\n",
       "    </tr>\n",
       "    <tr>\n",
       "        <td style=\"padding-left: 1em; padding-right: 1em; text-align: center; vertical-align: top\">AZ</td>\n",
       "        <td style=\"padding-left: 1em; padding-right: 1em; text-align: center; vertical-align: top\">business</td>\n",
       "        <td style=\"padding-left: 1em; padding-right: 1em; text-align: center; vertical-align: top\">3.72</td>\n",
       "        <td style=\"padding-left: 1em; padding-right: 1em; text-align: center; vertical-align: top\">Jason</td>\n",
       "        <td style=\"padding-left: 1em; padding-right: 1em; text-align: center; vertical-align: top\">376</td>\n",
       "        <td style=\"padding-left: 1em; padding-right: 1em; text-align: center; vertical-align: top\">user</td>\n",
       "        <td style=\"padding-left: 1em; padding-right: 1em; text-align: center; vertical-align: top\">331</td>\n",
       "        <td style=\"padding-left: 1em; padding-right: 1em; text-align: center; vertical-align: top\">322</td>\n",
       "        <td style=\"padding-left: 1em; padding-right: 1em; text-align: center; vertical-align: top\">1034</td>\n",
       "    </tr>\n",
       "    <tr>\n",
       "        <td style=\"padding-left: 1em; padding-right: 1em; text-align: center; vertical-align: top\">AZ</td>\n",
       "        <td style=\"padding-left: 1em; padding-right: 1em; text-align: center; vertical-align: top\">business</td>\n",
       "        <td style=\"padding-left: 1em; padding-right: 1em; text-align: center; vertical-align: top\">5.0</td>\n",
       "        <td style=\"padding-left: 1em; padding-right: 1em; text-align: center; vertical-align: top\">Paul</td>\n",
       "        <td style=\"padding-left: 1em; padding-right: 1em; text-align: center; vertical-align: top\">2</td>\n",
       "        <td style=\"padding-left: 1em; padding-right: 1em; text-align: center; vertical-align: top\">user</td>\n",
       "        <td style=\"padding-left: 1em; padding-right: 1em; text-align: center; vertical-align: top\">2</td>\n",
       "        <td style=\"padding-left: 1em; padding-right: 1em; text-align: center; vertical-align: top\">0</td>\n",
       "        <td style=\"padding-left: 1em; padding-right: 1em; text-align: center; vertical-align: top\">0</td>\n",
       "    </tr>\n",
       "    <tr>\n",
       "        <td style=\"padding-left: 1em; padding-right: 1em; text-align: center; vertical-align: top\">AZ</td>\n",
       "        <td style=\"padding-left: 1em; padding-right: 1em; text-align: center; vertical-align: top\">business</td>\n",
       "        <td style=\"padding-left: 1em; padding-right: 1em; text-align: center; vertical-align: top\">4.33</td>\n",
       "        <td style=\"padding-left: 1em; padding-right: 1em; text-align: center; vertical-align: top\">Nicole</td>\n",
       "        <td style=\"padding-left: 1em; padding-right: 1em; text-align: center; vertical-align: top\">3</td>\n",
       "        <td style=\"padding-left: 1em; padding-right: 1em; text-align: center; vertical-align: top\">user</td>\n",
       "        <td style=\"padding-left: 1em; padding-right: 1em; text-align: center; vertical-align: top\">0</td>\n",
       "        <td style=\"padding-left: 1em; padding-right: 1em; text-align: center; vertical-align: top\">0</td>\n",
       "        <td style=\"padding-left: 1em; padding-right: 1em; text-align: center; vertical-align: top\">3</td>\n",
       "    </tr>\n",
       "</table>\n",
       "<table frame=\"box\" rules=\"cols\">\n",
       "    <tr>\n",
       "        <th style=\"padding-left: 1em; padding-right: 1em; text-align: center\">business_id.1</th>\n",
       "        <th style=\"padding-left: 1em; padding-right: 1em; text-align: center\">date.1</th>\n",
       "        <th style=\"padding-left: 1em; padding-right: 1em; text-align: center\">stars.1</th>\n",
       "        <th style=\"padding-left: 1em; padding-right: 1em; text-align: center\">text.1</th>\n",
       "        <th style=\"padding-left: 1em; padding-right: 1em; text-align: center\">type.1</th>\n",
       "        <th style=\"padding-left: 1em; padding-right: 1em; text-align: center\">user_id.1</th>\n",
       "    </tr>\n",
       "    <tr>\n",
       "        <td style=\"padding-left: 1em; padding-right: 1em; text-align: center; vertical-align: top\">9yKzy9PApeiPPOUJEtnvkg</td>\n",
       "        <td style=\"padding-left: 1em; padding-right: 1em; text-align: center; vertical-align: top\">2011-01-26</td>\n",
       "        <td style=\"padding-left: 1em; padding-right: 1em; text-align: center; vertical-align: top\">5</td>\n",
       "        <td style=\"padding-left: 1em; padding-right: 1em; text-align: center; vertical-align: top\">My wife took me here on<br>my birthday for break ...</td>\n",
       "        <td style=\"padding-left: 1em; padding-right: 1em; text-align: center; vertical-align: top\">review</td>\n",
       "        <td style=\"padding-left: 1em; padding-right: 1em; text-align: center; vertical-align: top\">rLtl8ZkDX5vH5nAx9C3q5Q</td>\n",
       "    </tr>\n",
       "    <tr>\n",
       "        <td style=\"padding-left: 1em; padding-right: 1em; text-align: center; vertical-align: top\">ZRJwVLyzEJq1VAihDhYiow</td>\n",
       "        <td style=\"padding-left: 1em; padding-right: 1em; text-align: center; vertical-align: top\">2011-07-27</td>\n",
       "        <td style=\"padding-left: 1em; padding-right: 1em; text-align: center; vertical-align: top\">5</td>\n",
       "        <td style=\"padding-left: 1em; padding-right: 1em; text-align: center; vertical-align: top\">I have no idea why some<br>people give bad reviews ...</td>\n",
       "        <td style=\"padding-left: 1em; padding-right: 1em; text-align: center; vertical-align: top\">review</td>\n",
       "        <td style=\"padding-left: 1em; padding-right: 1em; text-align: center; vertical-align: top\">0a2KyEL0d3Yb1V6aivbIuQ</td>\n",
       "    </tr>\n",
       "    <tr>\n",
       "        <td style=\"padding-left: 1em; padding-right: 1em; text-align: center; vertical-align: top\">6oRAC4uyJCsJl1X0WZpVSA</td>\n",
       "        <td style=\"padding-left: 1em; padding-right: 1em; text-align: center; vertical-align: top\">2012-06-14</td>\n",
       "        <td style=\"padding-left: 1em; padding-right: 1em; text-align: center; vertical-align: top\">4</td>\n",
       "        <td style=\"padding-left: 1em; padding-right: 1em; text-align: center; vertical-align: top\">love the gyro plate. Rice<br>is so good and I also ...</td>\n",
       "        <td style=\"padding-left: 1em; padding-right: 1em; text-align: center; vertical-align: top\">review</td>\n",
       "        <td style=\"padding-left: 1em; padding-right: 1em; text-align: center; vertical-align: top\">0hT2KtfLiobPvh6cDC8JQg</td>\n",
       "    </tr>\n",
       "</table>\n",
       "<table frame=\"box\" rules=\"cols\">\n",
       "    <tr>\n",
       "        <th style=\"padding-left: 1em; padding-right: 1em; text-align: center\">votes.1</th>\n",
       "        <th style=\"padding-left: 1em; padding-right: 1em; text-align: center\">year.1</th>\n",
       "        <th style=\"padding-left: 1em; padding-right: 1em; text-align: center\">month.1</th>\n",
       "        <th style=\"padding-left: 1em; padding-right: 1em; text-align: center\">day.1</th>\n",
       "        <th style=\"padding-left: 1em; padding-right: 1em; text-align: center\">categories.1</th>\n",
       "        <th style=\"padding-left: 1em; padding-right: 1em; text-align: center\">...</th>\n",
       "    </tr>\n",
       "    <tr>\n",
       "        <td style=\"padding-left: 1em; padding-right: 1em; text-align: center; vertical-align: top\">{'funny': 0, 'useful': 5,<br>'cool': 2} ...</td>\n",
       "        <td style=\"padding-left: 1em; padding-right: 1em; text-align: center; vertical-align: top\">2011</td>\n",
       "        <td style=\"padding-left: 1em; padding-right: 1em; text-align: center; vertical-align: top\">1</td>\n",
       "        <td style=\"padding-left: 1em; padding-right: 1em; text-align: center; vertical-align: top\">26</td>\n",
       "        <td style=\"padding-left: 1em; padding-right: 1em; text-align: center; vertical-align: top\">[Breakfast &amp; Brunch,<br>Restaurants] ...</td>\n",
       "        <td style=\"padding-left: 1em; padding-right: 1em; text-align: center; vertical-align: top\">...</td>\n",
       "    </tr>\n",
       "    <tr>\n",
       "        <td style=\"padding-left: 1em; padding-right: 1em; text-align: center; vertical-align: top\">{'funny': 0, 'useful': 0,<br>'cool': 0} ...</td>\n",
       "        <td style=\"padding-left: 1em; padding-right: 1em; text-align: center; vertical-align: top\">2011</td>\n",
       "        <td style=\"padding-left: 1em; padding-right: 1em; text-align: center; vertical-align: top\">7</td>\n",
       "        <td style=\"padding-left: 1em; padding-right: 1em; text-align: center; vertical-align: top\">27</td>\n",
       "        <td style=\"padding-left: 1em; padding-right: 1em; text-align: center; vertical-align: top\">[Italian, Pizza,<br>Restaurants] ...</td>\n",
       "        <td style=\"padding-left: 1em; padding-right: 1em; text-align: center; vertical-align: top\">...</td>\n",
       "    </tr>\n",
       "    <tr>\n",
       "        <td style=\"padding-left: 1em; padding-right: 1em; text-align: center; vertical-align: top\">{'funny': 0, 'useful': 1,<br>'cool': 0} ...</td>\n",
       "        <td style=\"padding-left: 1em; padding-right: 1em; text-align: center; vertical-align: top\">2012</td>\n",
       "        <td style=\"padding-left: 1em; padding-right: 1em; text-align: center; vertical-align: top\">6</td>\n",
       "        <td style=\"padding-left: 1em; padding-right: 1em; text-align: center; vertical-align: top\">14</td>\n",
       "        <td style=\"padding-left: 1em; padding-right: 1em; text-align: center; vertical-align: top\">[Middle Eastern,<br>Restaurants] ...</td>\n",
       "        <td style=\"padding-left: 1em; padding-right: 1em; text-align: center; vertical-align: top\">...</td>\n",
       "    </tr>\n",
       "</table>\n",
       "[3 rows x 52 columns]<br/>\n",
       "</div>"
      ],
      "text/plain": [
       "Columns:\n",
       "\tbusiness_id\tstr\n",
       "\tdate\tstr\n",
       "\treview_id\tstr\n",
       "\tstars\tint\n",
       "\ttext\tstr\n",
       "\ttype\tstr\n",
       "\tuser_id\tstr\n",
       "\tvotes\tdict\n",
       "\tyear\tint\n",
       "\tmonth\tint\n",
       "\tday\tint\n",
       "\tcategories\tlist\n",
       "\tcity\tstr\n",
       "\tfull_address\tstr\n",
       "\tlatitude\tfloat\n",
       "\tlongitude\tfloat\n",
       "\tname\tstr\n",
       "\topen\tint\n",
       "\tbusiness_review_count\tint\n",
       "\tbusiness_avg_stars\tfloat\n",
       "\tstate\tstr\n",
       "\tbusiness_type\tstr\n",
       "\tuser_avg_stars\tfloat\n",
       "\tuser_name\tstr\n",
       "\tuser_review_count\tint\n",
       "\tuser_type\tstr\n",
       "\tvotes_funny\tint\n",
       "\tvotes_cool\tint\n",
       "\tvotes_useful\tint\n",
       "\tbusiness_id.1\tstr\n",
       "\tdate.1\tstr\n",
       "\tstars.1\tint\n",
       "\ttext.1\tstr\n",
       "\ttype.1\tstr\n",
       "\tuser_id.1\tstr\n",
       "\tvotes.1\tdict\n",
       "\tyear.1\tint\n",
       "\tmonth.1\tint\n",
       "\tday.1\tint\n",
       "\tcategories.1\tlist\n",
       "\tcity.1\tstr\n",
       "\tfull_address.1\tstr\n",
       "\tlatitude.1\tfloat\n",
       "\tlongitude.1\tfloat\n",
       "\tname.1\tstr\n",
       "\topen.1\tint\n",
       "\tbusiness_review_count.1\tint\n",
       "\tbusiness_avg_stars.1\tfloat\n",
       "\tstate.1\tstr\n",
       "\tbusiness_type.1\tstr\n",
       "\tcategories_dict\tdict\n",
       "\tnegative_review_tags\tdict\n",
       "\n",
       "Rows: 3\n",
       "\n",
       "Data:\n",
       "+------------------------+------------+------------------------+-------+\n",
       "|      business_id       |    date    |       review_id        | stars |\n",
       "+------------------------+------------+------------------------+-------+\n",
       "| 9yKzy9PApeiPPOUJEtnvkg | 2011-01-26 | fWKvX83p0-ka4JS3dc6E5A |   5   |\n",
       "| ZRJwVLyzEJq1VAihDhYiow | 2011-07-27 | IjZ33sJrzXqU-0X6U8NwyA |   5   |\n",
       "| 6oRAC4uyJCsJl1X0WZpVSA | 2012-06-14 | IESLBzqUCLdSzSqm0eCSxQ |   4   |\n",
       "+------------------------+------------+------------------------+-------+\n",
       "+-------------------------------+--------+------------------------+\n",
       "|              text             |  type  |        user_id         |\n",
       "+-------------------------------+--------+------------------------+\n",
       "| My wife took me here on my... | review | rLtl8ZkDX5vH5nAx9C3q5Q |\n",
       "| I have no idea why some pe... | review | 0a2KyEL0d3Yb1V6aivbIuQ |\n",
       "| love the gyro plate. Rice ... | review | 0hT2KtfLiobPvh6cDC8JQg |\n",
       "+-------------------------------+--------+------------------------+\n",
       "+-------------------------------+------+-------+-----+\n",
       "|             votes             | year | month | day |\n",
       "+-------------------------------+------+-------+-----+\n",
       "| {'funny': 0, 'useful': 5, ... | 2011 |   1   |  26 |\n",
       "| {'funny': 0, 'useful': 0, ... | 2011 |   7   |  27 |\n",
       "| {'funny': 0, 'useful': 1, ... | 2012 |   6   |  14 |\n",
       "+-------------------------------+------+-------+-----+\n",
       "+-------------------------------+---------+-------------------------------+\n",
       "|           categories          |   city  |          full_address         |\n",
       "+-------------------------------+---------+-------------------------------+\n",
       "| [Breakfast & Brunch, Resta... | Phoenix | 6106 S 32nd St\\nPhoenix, A... |\n",
       "| [Italian, Pizza, Restaurants] | Phoenix | 4848 E Chandler Blvd\\nPhoe... |\n",
       "| [Middle Eastern, Restaurants] |  Tempe  | 1513 E  Apache Blvd\\nTempe... |\n",
       "+-------------------------------+---------+-------------------------------+\n",
       "+----------+-----------+--------------------+------+-----------------------+--------------------+-----+\n",
       "| latitude | longitude |        name        | open | business_review_count | business_avg_stars | ... |\n",
       "+----------+-----------+--------------------+------+-----------------------+--------------------+-----+\n",
       "| 33.3908  |  -112.013 | Morning Glory Cafe |  1   |          116          |        4.0         | ... |\n",
       "| 33.3056  |  -111.979 | Spinato's Pizzeria |  1   |          102          |        4.0         | ... |\n",
       "| 33.4143  |  -111.913 |     Haji-Baba      |  1   |          265          |        4.5         | ... |\n",
       "+----------+-----------+--------------------+------+-----------------------+--------------------+-----+\n",
       "[3 rows x 52 columns]"
      ]
     },
     "metadata": {},
     "output_type": "display_data"
    }
   ],
   "source": [
    "display(train_set.head(3))"
   ]
  },
  {
   "cell_type": "markdown",
   "metadata": {
    "run_control": {
     "breakpoint": false,
     "state": "n"
    }
   },
   "source": [
    "![](http://i.imgur.com/iv8xcTU.gif)"
   ]
  },
  {
   "cell_type": "code",
   "execution_count": 81,
   "metadata": {
    "collapsed": false,
    "raw_mimetype": "text/html",
    "run_control": {
     "breakpoint": false,
     "read_only": false,
     "state": "d"
    }
   },
   "outputs": [
    {
     "data": {
      "application/javascript": [
       "$(\"head\").append($(\"<link/>\").attr({\n",
       "  rel:  \"stylesheet\",\n",
       "  type: \"text/css\",\n",
       "  href: \"//cdnjs.cloudflare.com/ajax/libs/font-awesome/4.1.0/css/font-awesome.min.css\"\n",
       "}));\n",
       "$(\"head\").append($(\"<link/>\").attr({\n",
       "  rel:  \"stylesheet\",\n",
       "  type: \"text/css\",\n",
       "  href: \"//dato.com/files/canvas/1.4.0/css/canvas.css\"\n",
       "}));\n",
       "\n",
       "            (function(){\n",
       "\n",
       "                var e = null;\n",
       "                if (typeof element == 'undefined') {\n",
       "                    var scripts = document.getElementsByTagName('script');\n",
       "                    var thisScriptTag = scripts[scripts.length-1];\n",
       "                    var parentDiv = thisScriptTag.parentNode;\n",
       "                    e = document.createElement('div');\n",
       "                    parentDiv.appendChild(e);\n",
       "                } else {\n",
       "                    e = element[0];\n",
       "                }\n",
       "\n",
       "                require(['//dato.com/files/canvas/1.4.0/js/ipython_app.js'], function(IPythonApp){\n",
       "                    var app = new IPythonApp();\n",
       "                    app.attachView('sarray','Categorical', {\"ipython\": true, \"sketch\": {\"complete\": true, \"numeric\": false, \"num_unique\": 61, \"num_undefined\": 0, \"progress\": 1.0, \"frequent_items\": {\"El Mirage\": {\"frequency\": 45, \"value\": \"El Mirage\"}, \"Gila Bend\": {\"frequency\": 62, \"value\": \"Gila Bend\"}, \"Coolidge\": {\"frequency\": 23, \"value\": \"Coolidge\"}, \"Maricopa\": {\"frequency\": 130, \"value\": \"Maricopa\"}, \"Anthem\": {\"frequency\": 285, \"value\": \"Anthem\"}, \"Fort McDowell\": {\"frequency\": 71, \"value\": \"Fort McDowell\"}, \"Goldfield\": {\"frequency\": 39, \"value\": \"Goldfield\"}, \"Guadalupe\": {\"frequency\": 51, \"value\": \"Guadalupe\"}, \"Morristown\": {\"frequency\": 20, \"value\": \"Morristown\"}, \"Wickenburg\": {\"frequency\": 133, \"value\": \"Wickenburg\"}, \"Surprise\": {\"frequency\": 1065, \"value\": \"Surprise\"}, \"Gilbert\": {\"frequency\": 4742, \"value\": \"Gilbert\"}, \"Goodyear\": {\"frequency\": 880, \"value\": \"Goodyear\"}, \"Sun City West\": {\"frequency\": 34, \"value\": \"Sun City West\"}, \"Youngtown\": {\"frequency\": 18, \"value\": \"Youngtown\"}, \"Higley\": {\"frequency\": 24, \"value\": \"Higley\"}, \"Phoenix\": {\"frequency\": 72424, \"value\": \"Phoenix\"}, \"Peoria\": {\"frequency\": 2079, \"value\": \"Peoria\"}, \"Apache Junction\": {\"frequency\": 212, \"value\": \"Apache Junction\"}, \"Scottsdale\": {\"frequency\": 38811, \"value\": \"Scottsdale\"}, \"North Scottsdale\": {\"frequency\": 46, \"value\": \"North Scottsdale\"}, \"Queen Creek\": {\"frequency\": 534, \"value\": \"Queen Creek\"}, \"Sun Lakes\": {\"frequency\": 26, \"value\": \"Sun Lakes\"}, \"Tortilla Flat\": {\"frequency\": 34, \"value\": \"Tortilla Flat\"}, \"Mesa\": {\"frequency\": 8015, \"value\": \"Mesa\"}, \"Fountain Hills\": {\"frequency\": 316, \"value\": \"Fountain Hills\"}, \"Laveen\": {\"frequency\": 107, \"value\": \"Laveen\"}, \"Ahwatukee\": {\"frequency\": 105, \"value\": \"Ahwatukee\"}, \"Carefree\": {\"frequency\": 202, \"value\": \"Carefree\"}, \"Paradise Valley\": {\"frequency\": 949, \"value\": \"Paradise Valley\"}, \"Gold Canyon\": {\"frequency\": 60, \"value\": \"Gold Canyon\"}, \"Chandler\": {\"frequency\": 11153, \"value\": \"Chandler\"}, \"Fountain Hls\": {\"frequency\": 25, \"value\": \"Fountain Hls\"}, \"Avondale\": {\"frequency\": 1032, \"value\": \"Avondale\"}, \"Glendale\": {\"frequency\": 5735, \"value\": \"Glendale\"}, \"Tempe\": {\"frequency\": 21398, \"value\": \"Tempe\"}, \"Litchfield Park\": {\"frequency\": 206, \"value\": \"Litchfield Park\"}, \"Tolleson\": {\"frequency\": 142, \"value\": \"Tolleson\"}, \"Cave Creek\": {\"frequency\": 610, \"value\": \"Cave Creek\"}, \"San Tan Valley\": {\"frequency\": 33, \"value\": \"San Tan Valley\"}, \"Sun City\": {\"frequency\": 141, \"value\": \"Sun City\"}, \"Waddell\": {\"frequency\": 18, \"value\": \"Waddell\"}, \"Buckeye\": {\"frequency\": 175, \"value\": \"Buckeye\"}, \"Casa Grande\": {\"frequency\": 242, \"value\": \"Casa Grande\"}, \"Florence\": {\"frequency\": 49, \"value\": \"Florence\"}}, \"size\": 172608}, \"selected_variable\": {\"view_file\": \"sarray\", \"view_components\": [\"Categorical\"], \"descriptives\": {\"rows\": 172608}, \"dtype\": \"str\", \"type\": \"SArray\", \"view_component\": \"Categorical\", \"name\": [\"<temporary SArray>\"]}, \"histogram\": null}, e);\n",
       "                });\n",
       "            })();\n",
       "        "
      ]
     },
     "metadata": {},
     "output_type": "display_data"
    }
   ],
   "source": [
    "display_javascript(train_set['city'].show())"
   ]
  },
  {
   "cell_type": "markdown",
   "metadata": {
    "run_control": {
     "breakpoint": false,
     "state": "n"
    }
   },
   "source": [
    "# Train Regression Model!\n",
    "\n",
    "-------------"
   ]
  },
  {
   "cell_type": "markdown",
   "metadata": {
    "run_control": {
     "breakpoint": false,
     "state": "n"
    }
   },
   "source": [
    "![](http://i.imgur.com/iDRoqCb.gif)"
   ]
  },
  {
   "cell_type": "code",
   "execution_count": 90,
   "metadata": {
    "collapsed": false,
    "run_control": {
     "breakpoint": false,
     "read_only": false,
     "state": "d"
    }
   },
   "outputs": [
    {
     "name": "stdout",
     "output_type": "stream",
     "text": [
      "PROGRESS: Creating a validation set from 5 percent of training data. This may take a while.\n",
      "          You can set ``validation_set=None`` to disable validation tracking.\n",
      "\n",
      "PROGRESS: Linear regression:\n",
      "PROGRESS: --------------------------------------------------------\n",
      "PROGRESS: Number of examples          : 164052\n",
      "PROGRESS: Number of features          : 5\n",
      "PROGRESS: Number of unpacked features : 5\n",
      "PROGRESS: Number of coefficients    : 65\n",
      "PROGRESS: Starting Newton Method\n",
      "PROGRESS: --------------------------------------------------------\n",
      "PROGRESS: +-----------+----------+--------------+--------------------+----------------------+---------------+-----------------+\n",
      "PROGRESS: | Iteration | Passes   | Elapsed Time | Training-max_error | Validation-max_error | Training-rmse | Validation-rmse |\n",
      "PROGRESS: +-----------+----------+--------------+--------------------+----------------------+---------------+-----------------+\n",
      "PROGRESS: | 1         | 2        | 0.203407     | 3.971958           | 3.564674             | 0.970918      | 0.965084        |\n",
      "PROGRESS: +-----------+----------+--------------+--------------------+----------------------+---------------+-----------------+\n"
     ]
    }
   ],
   "source": [
    "model = gl.linear_regression.create(train_set, target='stars', \n",
    "                                    features = ['user_avg_stars','business_avg_stars', \n",
    "                                                'user_review_count', 'business_review_count', \n",
    "                                                'city'])"
   ]
  },
  {
   "cell_type": "code",
   "execution_count": 83,
   "metadata": {
    "collapsed": false,
    "run_control": {
     "breakpoint": false,
     "read_only": false,
     "state": "n"
    }
   },
   "outputs": [
    {
     "data": {
      "text/plain": [
       "{'max_error': 4.016124743972821, 'rmse': 0.9706849263734884}"
      ]
     },
     "execution_count": 83,
     "metadata": {},
     "output_type": "execute_result"
    }
   ],
   "source": [
    "model.evaluate(test_set)"
   ]
  },
  {
   "cell_type": "markdown",
   "metadata": {
    "run_control": {
     "breakpoint": false,
     "state": "n"
    }
   },
   "source": [
    "![](http://i.imgur.com/uN2FbbK.gif)"
   ]
  },
  {
   "cell_type": "code",
   "execution_count": 84,
   "metadata": {
    "collapsed": false,
    "run_control": {
     "breakpoint": false,
     "read_only": false,
     "state": "d"
    }
   },
   "outputs": [
    {
     "name": "stdout",
     "output_type": "stream",
     "text": [
      "Class                         : LinearRegression\n",
      "\n",
      "Schema\n",
      "------\n",
      "Number of coefficients        : 65\n",
      "Number of examples            : 205139\n",
      "Number of feature columns     : 5\n",
      "Number of unpacked features   : 5\n",
      "\n",
      "Hyperparameters\n",
      "---------------\n",
      "L1 penalty                    : 0.0\n",
      "L2 penalty                    : 0.01\n",
      "\n",
      "Training Summary\n",
      "----------------\n",
      "Solver                        : auto\n",
      "Solver iterations             : 1\n",
      "Solver status                 : SUCCESS: Optimal solution found.\n",
      "Training time (sec)           : 0.3522\n",
      "\n",
      "Settings\n",
      "--------\n",
      "Residual sum of squares       : 193305.2713\n",
      "Training RMSE                 : 0.9707\n",
      "\n",
      "Highest Positive Coefficients\n",
      "-----------------------------\n",
      "city[Sun City Anthem]         : 1.5828\n",
      "user_avg_stars                : 0.8133\n",
      "business_avg_stars            : 0.7777\n",
      "city[North Pinal]             : 0.3682\n",
      "city[Grand Junction]          : 0.3246\n",
      "\n",
      "Lowest Negative Coefficients\n",
      "----------------------------\n",
      "(intercept)                   : -2.2332\n",
      "city[Saguaro Lake]            : -0.2227\n",
      "city[Florence]                : -0.1593\n",
      "city[Wittmann]                : -0.1486\n",
      "city[Youngtown]               : -0.1122\n",
      "\n"
     ]
    }
   ],
   "source": [
    "model.summary()"
   ]
  },
  {
   "cell_type": "markdown",
   "metadata": {
    "run_control": {
     "breakpoint": false,
     "state": "n"
    }
   },
   "source": [
    "# More Training!!"
   ]
  },
  {
   "cell_type": "markdown",
   "metadata": {
    "run_control": {
     "breakpoint": false,
     "state": "n"
    }
   },
   "source": [
    "Well crap, just keep on the iterating!"
   ]
  },
  {
   "cell_type": "markdown",
   "metadata": {
    "run_control": {
     "breakpoint": false,
     "state": "n"
    }
   },
   "source": [
    "# Iterate 10 More Times!"
   ]
  },
  {
   "cell_type": "code",
   "execution_count": 91,
   "metadata": {
    "collapsed": false,
    "run_control": {
     "breakpoint": false,
     "read_only": false,
     "state": "d"
    }
   },
   "outputs": [
    {
     "name": "stdout",
     "output_type": "stream",
     "text": [
      "PROGRESS: Creating a validation set from 5 percent of training data. This may take a while.\n",
      "          You can set ``validation_set=None`` to disable validation tracking.\n",
      "\n",
      "PROGRESS: Linear regression:\n",
      "PROGRESS: --------------------------------------------------------\n",
      "PROGRESS: Number of examples          : 205280\n",
      "PROGRESS: Number of features          : 4\n",
      "PROGRESS: Number of unpacked features : 4\n",
      "PROGRESS: Number of coefficients    : 54308\n",
      "PROGRESS: Starting L-BFGS\n",
      "PROGRESS: --------------------------------------------------------\n",
      "PROGRESS: +-----------+----------+-----------+--------------+--------------------+----------------------+---------------+-----------------+\n",
      "PROGRESS: | Iteration | Passes   | Step size | Elapsed Time | Training-max_error | Validation-max_error | Training-rmse | Validation-rmse |\n",
      "PROGRESS: +-----------+----------+-----------+--------------+--------------------+----------------------+---------------+-----------------+\n",
      "PROGRESS: | 1         | 6        | 0.000000  | 0.732986     | 3.364958           | 3.425305             | 1.006274      | 1.109129        |\n",
      "PROGRESS: | 2         | 9        | 5.000000  | 1.190700     | 4.038661           | 6.434633             | 0.875567      | 1.182896        |\n",
      "PROGRESS: | 3         | 10       | 5.000000  | 1.397855     | 8.005615           | 7.137092             | 1.051506      | 1.313125        |\n",
      "PROGRESS: | 4         | 12       | 1.000000  | 1.759148     | 3.815589           | 5.885623             | 0.857827      | 1.184018        |\n",
      "PROGRESS: | 5         | 13       | 1.000000  | 2.004362     | 3.875218           | 5.915696             | 0.856124      | 1.180297        |\n",
      "PROGRESS: | 6         | 14       | 1.000000  | 2.238819     | 3.835793           | 5.914847             | 0.854844      | 1.181280        |\n",
      "PROGRESS: | 10        | 18       | 1.000000  | 3.205266     | 3.896264           | 5.995503             | 0.852408      | 1.195639        |\n",
      "PROGRESS: +-----------+----------+-----------+--------------+--------------------+----------------------+---------------+-----------------+\n"
     ]
    }
   ],
   "source": [
    "model = gl.linear_regression.create(yelp_reviews, target='stars', \n",
    "                                    features = ['user_id','business_id',\n",
    "                                                'user_avg_stars','business_avg_stars'],\n",
    "                                                max_iterations=10)"
   ]
  },
  {
   "cell_type": "markdown",
   "metadata": {
    "run_control": {
     "breakpoint": false,
     "state": "n"
    }
   },
   "source": [
    "# Or even 100X!"
   ]
  },
  {
   "cell_type": "markdown",
   "metadata": {
    "run_control": {
     "breakpoint": false,
     "state": "n"
    }
   },
   "source": [
    "![](http://img3.wikia.nocookie.net/__cb20120228151221/dragonball/images/thumb/3/3e/Goku_Charges_Kaioken_Times_3.JPG/1023px-Goku_Charges_Kaioken_Times_3.JPG)"
   ]
  },
  {
   "cell_type": "code",
   "execution_count": 103,
   "metadata": {
    "collapsed": false,
    "run_control": {
     "breakpoint": false,
     "state": "n"
    }
   },
   "outputs": [
    {
     "name": "stdout",
     "output_type": "stream",
     "text": [
      "PROGRESS: Creating a validation set from 5 percent of training data. This may take a while.\n",
      "          You can set ``validation_set=None`` to disable validation tracking.\n",
      "\n",
      "PROGRESS: Linear regression:\n",
      "PROGRESS: --------------------------------------------------------\n",
      "PROGRESS: Number of examples          : 205059\n",
      "PROGRESS: Number of features          : 4\n",
      "PROGRESS: Number of unpacked features : 4\n",
      "PROGRESS: Number of coefficients    : 54334\n",
      "PROGRESS: Starting L-BFGS\n",
      "PROGRESS: --------------------------------------------------------\n",
      "PROGRESS: +-----------+----------+-----------+--------------+--------------------+----------------------+---------------+-----------------+\n",
      "PROGRESS: | Iteration | Passes   | Step size | Elapsed Time | Training-max_error | Validation-max_error | Training-rmse | Validation-rmse |\n",
      "PROGRESS: +-----------+----------+-----------+--------------+--------------------+----------------------+---------------+-----------------+\n",
      "PROGRESS: | 1         | 6        | 0.000000  | 0.879003     | 3.374304           | 3.546180             | 1.006509      | 1.096167        |\n",
      "PROGRESS: | 2         | 9        | 5.000000  | 1.371499     | 3.973070           | 4.880738             | 0.875498      | 1.187452        |\n",
      "PROGRESS: | 3         | 10       | 5.000000  | 1.689919     | 6.860610           | 6.562078             | 1.051744      | 1.314555        |\n",
      "PROGRESS: | 4         | 12       | 1.000000  | 2.093925     | 3.791061           | 4.934615             | 0.857630      | 1.187303        |\n",
      "PROGRESS: | 5         | 13       | 1.000000  | 2.322499     | 3.897381           | 4.955225             | 0.855922      | 1.181546        |\n",
      "PROGRESS: | 6         | 14       | 1.000000  | 2.512237     | 3.853703           | 4.917000             | 0.854624      | 1.183400        |\n",
      "PROGRESS: | 10        | 18       | 1.000000  | 3.425410     | 3.938762           | 5.014433             | 0.852165      | 1.198493        |\n",
      "PROGRESS: | 11        | 19       | 1.000000  | 3.628849     | 3.932378           | 5.035921             | 0.852049      | 1.199107        |\n",
      "PROGRESS: | 15        | 23       | 1.000000  | 4.415253     | 3.919294           | 5.395360             | 0.851920      | 1.201375        |\n",
      "PROGRESS: | 20        | 28       | 1.000000  | 5.529039     | 3.918947           | 6.530650             | 0.851892      | 1.201231        |\n",
      "PROGRESS: | 25        | 33       | 1.000000  | 6.475729     | 3.919687           | 7.317974             | 0.851865      | 1.200497        |\n",
      "PROGRESS: | 30        | 38       | 1.000000  | 7.550670     | 3.934781           | 5.465904             | 0.851702      | 1.186699        |\n",
      "PROGRESS: | 35        | 43       | 1.000000  | 8.518818     | 3.912145           | 5.022651             | 0.851493      | 1.181603        |\n",
      "PROGRESS: | 40        | 48       | 1.000000  | 9.455839     | 3.920923           | 6.399283             | 0.851450      | 1.183357        |\n",
      "PROGRESS: | 45        | 53       | 1.000000  | 10.436233    | 3.919441           | 6.639106             | 0.851444      | 1.182982        |\n",
      "PROGRESS: | 50        | 58       | 1.000000  | 11.404371    | 3.919144           | 6.635648             | 0.851442      | 1.183203        |\n",
      "PROGRESS: | 51        | 59       | 1.000000  | 11.582491    | 3.918729           | 6.644113             | 0.851441      | 1.183239        |\n",
      "PROGRESS: | 55        | 63       | 1.000000  | 12.319183    | 3.923829           | 6.339387             | 0.851426      | 1.181220        |\n",
      "PROGRESS: | 60        | 68       | 1.000000  | 13.772160    | 3.917975           | 6.501958             | 0.851390      | 1.179843        |\n",
      "PROGRESS: | 65        | 73       | 1.000000  | 15.090546    | 3.918622           | 6.894069             | 0.851343      | 1.178876        |\n",
      "PROGRESS: | 70        | 78       | 1.000000  | 16.286698    | 3.918026           | 6.679894             | 0.851333      | 1.178368        |\n",
      "PROGRESS: | 75        | 83       | 1.000000  | 17.448901    | 3.918813           | 6.477494             | 0.851331      | 1.178350        |\n",
      "PROGRESS: | 80        | 88       | 1.000000  | 18.420837    | 3.919651           | 6.442720             | 0.851331      | 1.178452        |\n",
      "PROGRESS: | 85        | 93       | 1.000000  | 19.371725    | 3.919406           | 6.442897             | 0.851331      | 1.178563        |\n",
      "PROGRESS: | 90        | 98       | 1.000000  | 20.350318    | 3.919393           | 6.465814             | 0.851331      | 1.178605        |\n",
      "PROGRESS: | 95        | 103      | 1.000000  | 21.314862    | 3.919420           | 6.482812             | 0.851331      | 1.178628        |\n",
      "PROGRESS: | 100       | 108      | 1.000000  | 22.254052    | 3.919421           | 6.482513             | 0.851331      | 1.178636        |\n",
      "PROGRESS: +-----------+----------+-----------+--------------+--------------------+----------------------+---------------+-----------------+\n"
     ]
    }
   ],
   "source": [
    "model = gl.linear_regression.create(yelp_reviews, target='stars', \n",
    "                                    features = ['user_id','business_id',\n",
    "                                                'user_avg_stars','business_avg_stars'],\n",
    "                                                max_iterations=100)"
   ]
  },
  {
   "cell_type": "markdown",
   "metadata": {
    "run_control": {
     "breakpoint": false,
     "state": "n"
    }
   },
   "source": [
    "![](http://i.imgur.com/EyV29mp.gif)"
   ]
  },
  {
   "cell_type": "markdown",
   "metadata": {
    "run_control": {
     "breakpoint": false,
     "state": "n"
    }
   },
   "source": [
    "# Dictionary and List Features"
   ]
  },
  {
   "cell_type": "code",
   "execution_count": 92,
   "metadata": {
    "collapsed": false,
    "run_control": {
     "breakpoint": false,
     "read_only": false,
     "state": "n"
    }
   },
   "outputs": [
    {
     "data": {
      "text/plain": [
       "dtype: dict\n",
       "Rows: 3\n",
       "[{'funny': 0, 'useful': 5, 'cool': 2}, {'funny': 0, 'useful': 0, 'cool': 0}, {'funny': 0, 'useful': 1, 'cool': 0}]"
      ]
     },
     "execution_count": 92,
     "metadata": {},
     "output_type": "execute_result"
    }
   ],
   "source": [
    "train_set['votes'].head(3)"
   ]
  },
  {
   "cell_type": "code",
   "execution_count": 93,
   "metadata": {
    "collapsed": true,
    "run_control": {
     "breakpoint": false,
     "read_only": false,
     "state": "n"
    }
   },
   "outputs": [],
   "source": [
    "tags_to_dict = lambda tags: dict(zip(tags, [1 for tag in tags]))"
   ]
  },
  {
   "cell_type": "markdown",
   "metadata": {
    "run_control": {
     "breakpoint": false,
     "state": "n"
    }
   },
   "source": [
    "# Using Review Category Tags"
   ]
  },
  {
   "cell_type": "code",
   "execution_count": 94,
   "metadata": {
    "collapsed": false,
    "run_control": {
     "breakpoint": false,
     "read_only": false,
     "state": "n"
    }
   },
   "outputs": [
    {
     "data": {
      "text/plain": [
       "dtype: dict\n",
       "Rows: 5\n",
       "[{'Breakfast & Brunch': 1, 'Restaurants': 1}, {'Restaurants': 1, 'Pizza': 1, 'Italian': 1}, {'Middle Eastern': 1, 'Restaurants': 1}, {'Dog Parks': 1, 'Parks': 1, 'Active Life': 1}, {'Tires': 1, 'Automotive': 1}]"
      ]
     },
     "execution_count": 94,
     "metadata": {},
     "output_type": "execute_result"
    }
   ],
   "source": [
    "train_set['categories_dict'] = train_set.apply(lambda row: tags_to_dict(row['categories']))\n",
    "train_set['categories_dict'].head(5)"
   ]
  },
  {
   "cell_type": "code",
   "execution_count": 95,
   "metadata": {
    "collapsed": false,
    "run_control": {
     "breakpoint": false,
     "read_only": false,
     "state": "d"
    }
   },
   "outputs": [
    {
     "name": "stdout",
     "output_type": "stream",
     "text": [
      "PROGRESS: Creating a validation set from 5 percent of training data. This may take a while.\n",
      "          You can set ``validation_set=None`` to disable validation tracking.\n",
      "\n",
      "PROGRESS: Linear regression:\n",
      "PROGRESS: --------------------------------------------------------\n",
      "PROGRESS: Number of examples          : 163915\n",
      "PROGRESS: Number of features          : 6\n",
      "PROGRESS: Number of unpacked features : 515\n",
      "PROGRESS: Number of coefficients    : 50076\n",
      "PROGRESS: Starting L-BFGS\n",
      "PROGRESS: --------------------------------------------------------\n",
      "PROGRESS: +-----------+----------+-----------+--------------+--------------------+----------------------+---------------+-----------------+\n",
      "PROGRESS: | Iteration | Passes   | Step size | Elapsed Time | Training-max_error | Validation-max_error | Training-rmse | Validation-rmse |\n",
      "PROGRESS: +-----------+----------+-----------+--------------+--------------------+----------------------+---------------+-----------------+\n",
      "PROGRESS: | 1         | 6        | 0.000000  | 1.016222     | 19.169677          | 6.678086             | 1.289192      | 1.344118        |\n",
      "PROGRESS: | 2         | 9        | 5.000000  | 1.608496     | 13.975451          | 5.198082             | 1.031652      | 1.224624        |\n",
      "PROGRESS: | 3         | 10       | 5.000000  | 1.876383     | 29.764258          | 10.649397            | 1.997984      | 2.095041        |\n",
      "PROGRESS: | 4         | 12       | 1.000000  | 2.334323     | 3.852072           | 5.231593             | 0.858294      | 1.150716        |\n",
      "PROGRESS: | 5         | 13       | 1.000000  | 2.628560     | 3.947246           | 5.334254             | 0.849495      | 1.150773        |\n",
      "PROGRESS: | 6         | 14       | 1.000000  | 2.911206     | 3.914202           | 5.614301             | 0.838725      | 1.161301        |\n",
      "PROGRESS: | 10        | 18       | 1.000000  | 3.995491     | 3.857460           | 6.684582             | 0.818123      | 1.187864        |\n",
      "PROGRESS: +-----------+----------+-----------+--------------+--------------------+----------------------+---------------+-----------------+\n"
     ]
    }
   ],
   "source": [
    "model = gl.linear_regression.create(train_set, target='stars', \n",
    "                                    features = ['user_id','business_id', 'categories_dict',\n",
    "                                                'user_avg_stars','votes', 'business_avg_stars'])"
   ]
  },
  {
   "cell_type": "markdown",
   "metadata": {
    "run_control": {
     "breakpoint": false,
     "state": "n"
    }
   },
   "source": [
    "![](http://i.imgur.com/W3gTgHC.gif)"
   ]
  },
  {
   "cell_type": "markdown",
   "metadata": {
    "run_control": {
     "breakpoint": false,
     "state": "n"
    }
   },
   "source": [
    "# Text Data: Using Raw Review Data\n"
   ]
  },
  {
   "cell_type": "code",
   "execution_count": 96,
   "metadata": {
    "collapsed": false,
    "run_control": {
     "breakpoint": false,
     "read_only": false,
     "state": "n"
    }
   },
   "outputs": [
    {
     "data": {
      "text/plain": [
       "dtype: str\n",
       "Rows: 1\n",
       "['My wife took me here on my birthday for breakfast and it was excellent.  The weather was perfect which made sitting outside overlooking their grounds an absolute pleasure.  Our waitress was excellent and our food arrived quickly on the semi-busy Saturday morning.  It looked like the place fills up pretty quickly so the earlier you get here the better.\n",
       "\n",
       "Do yourself a favor and get their Bloody Mary.  It was phenomenal and simply the best I've ever had.  I'm pretty sure they only use ingredients from their garden and blend them fresh when you order it.  It was amazing.\n",
       "\n",
       "While EVERYTHING on the menu looks excellent, I had the white truffle scrambled eggs vegetable skillet and it was tasty and delicious.  It came with 2 pieces of their griddled bread with was amazing and it absolutely made the meal complete.  It was the best \"toast\" I've ever had.\n",
       "\n",
       "Anyway, I can't wait to go back!']"
      ]
     },
     "execution_count": 96,
     "metadata": {},
     "output_type": "execute_result"
    }
   ],
   "source": [
    "train_set['text'].head(1)"
   ]
  },
  {
   "cell_type": "code",
   "execution_count": 97,
   "metadata": {
    "collapsed": false,
    "run_control": {
     "breakpoint": false,
     "read_only": false,
     "state": "d"
    }
   },
   "outputs": [
    {
     "name": "stdout",
     "output_type": "stream",
     "text": [
      "Calculated Polarity and Subjectivity\n",
      "====================================\n",
      "0.402469135802\n",
      "0.65911228689\n",
      "\n",
      "My wife took me here on my birthday for breakfast and it was excellent.  The weather was perfect which made sitting outside overlooking their grounds an absolute pleasure.  Our waitress was excellent and our food arrived quickly on the semi-busy Saturday morning.  It looked like the place fills up pretty quickly so the earlier you get here the better.\n",
      "\n",
      "Do yourself a favor and get their Bloody Mary.  It was phenomenal and simply the best I've ever had.  I'm pretty sure they only use ingredients from their garden and blend them fresh when you order it.  It was amazing.\n",
      "\n",
      "While EVERYTHING on the menu looks excellent, I had the white truffle scrambled eggs vegetable skillet and it was tasty and delicious.  It came with 2 pieces of their griddled bread with was amazing and it absolutely made the meal complete.  It was the best \"toast\" I've ever had.\n",
      "\n",
      "Anyway, I can't wait to go back!\n",
      "----------\n",
      "\n",
      "Calculated Polarity and Subjectivity\n",
      "====================================\n",
      "0.229772727273\n",
      "0.638484848485\n",
      "\n",
      "I have no idea why some people give bad reviews about this place. It goes to show you, you can please everyone. They are probably griping about something that their own fault...there are many people like that.\n",
      "\n",
      "In any case, my friend and I arrived at about 5:50 PM this past Sunday. It was pretty crowded, more than I thought for a Sunday evening and thought we would have to wait forever to get a seat but they said we'll be seated when the girl comes back from seating someone else. We were seated at 5:52 and the waiter came and got our drink orders. Everyone was very pleasant from the host that seated us to the waiter to the server. The prices were very good as well. We placed our orders once we decided what we wanted at 6:02. We shared the baked spaghetti calzone and the small \"Here's The Beef\" pizza so we can both try them. The calzone was huge and we got the smallest one (personal) and got the small 11\" pizza. Both were awesome! My friend liked the pizza better and I liked the calzone better. The calzone does have a sweetish sauce but that's how I like my sauce!\n",
      "\n",
      "We had to box part of the pizza to take it home and we were out the door by 6:42. So, everything was great and not like these bad reviewers. That goes to show you that  you have to try these things yourself because all these bad reviewers have some serious issues.\n",
      "----------\n",
      "\n",
      "Calculated Polarity and Subjectivity\n",
      "====================================\n",
      "0.566666666667\n",
      "0.733333333333\n",
      "\n",
      "love the gyro plate. Rice is so good and I also dig their candy selection :)\n",
      "----------\n",
      "\n",
      "Calculated Polarity and Subjectivity\n",
      "====================================\n",
      "0.608645833333\n",
      "0.7\n",
      "\n",
      "Rosie, Dakota, and I LOVE Chaparral Dog Park!!! It's very convenient and surrounded by a lot of paths, a desert xeriscape, baseball fields, ballparks, and a lake with ducks.\n",
      "\n",
      "The Scottsdale Park and Rec Dept. does a wonderful job of keeping the park clean and shaded.  You can find trash cans and poopy-pick up mitts located all over the park and paths.\n",
      "\n",
      "The fenced in area is huge to let the dogs run, play, and sniff!\n",
      "----------\n",
      "\n",
      "Calculated Polarity and Subjectivity\n",
      "====================================\n",
      "0.468125\n",
      "0.81\n",
      "\n",
      "General Manager Scott Petello is a good egg!!! Not to go into detail, but let me assure you if you have any issues (albeit rare) speak with Scott and treat the guy with some respect as you state your case and I'd be surprised if you don't walk out totally satisfied as I just did. Like I always say..... \"Mistakes are inevitable, it's how we recover from them that is important\"!!!\n",
      "\n",
      "Thanks to Scott and his awesome staff. You've got a customer for life!! .......... :^)\n",
      "----------\n",
      "\n",
      "Calculated Polarity and Subjectivity\n",
      "====================================\n",
      "0.243277201725\n",
      "0.524092459265\n",
      "\n",
      "Quiessence is, simply put, beautiful.  Full windows and earthy wooden walls give a feeling of warmth inside this restaurant perched in the middle of a farm.  The restaurant seemed fairly full even on a Tuesday evening; we had secured reservations just a couple days before.\n",
      "\n",
      "My friend and I had sampled sandwiches at the Farm Kitchen earlier that week, and were impressed enough to want to eat at the restaurant.  The crisp, fresh veggies didn't disappoint: we ordered the salad with orange and grapefruit slices and the crudites to start.  Both were very good; I didn't even know how much I liked raw radishes and turnips until I tried them with their pesto and aioli sauces.\n",
      "\n",
      "For entrees, I ordered the lamb and my friend ordered the pork shoulder.  Service started out very good, but trailed off quickly.  Waiting for our food took a very long time (a couple seated after us received and finished their entrees before we received our's), and no one bothered to explain the situation until the maitre'd apologized almost 45 minutes later.  Apparently the chef was unhappy with the sauce on my entree, so he started anew.  This isn't really a problem, but they should have communicated this to us earlier.  For our troubles, they comped me the glass of wine I ordered, but they forgot to bring out with my entree  as I had requested.  Also, they didn't offer us bread, but I will echo the lady who whispered this to us on her way out: ask for the bread.  We received warm foccacia, apple walnut, and pomegranate slices of wonder with honey and butter.  YUM.\n",
      "\n",
      "The entrees were both solid, but didn't quite live up to the innovation and freshness of the vegetables.  My lamb's sauce was delicious, but the meat was tough.  Maybe the vegetarian entrees are the way to go?  But our dessert, the gingerbread pear cake, was yet another winner.\n",
      "\n",
      "If the entrees were tad more inspired, or the service weren't so spotty, this place definitely would have warranted five stars.  If I return, I'd like to try the 75$ tasting menu.  Our bill came out to about 100$ for two people, including tip, no drinks.\n",
      "----------\n",
      "\n",
      "Calculated Polarity and Subjectivity\n",
      "====================================\n",
      "0.300645342312\n",
      "0.577132435466\n",
      "\n",
      "Drop what you're doing and drive here. After I ate here I had to go back the next day for more.  The food is that good.\n",
      "\n",
      "This cute little green building may have gone competely unoticed if I hadn't been driving down Palm Rd to avoid construction.  While waiting to turn onto 16th Street the \"Grand Opening\" sign caught my eye and my little yelping soul leaped for joy!  A new place to try!\n",
      "\n",
      "It looked desolate from the outside but when I opened the door I was put at easy by the decor, smell and cleanliness inside.  I ordered dinner for two, to go.  The menu was awesome.  I loved seeing all the variety: poblano peppers, mole, mahi mahi, mushrooms...something wrapped in banana leaves.  It made it difficult to choose something.  Here's what I've had so far: La Condesa Shrimp Burro and Baja Sur Dogfish Shark Taco.  They are both were very delicious meals but the shrimp burro stole the show.  So much flavor.  I snagged some bites from my hubbys mole and mahi mahi burros- mmmm such a delight.  The salsa bar is endless.  I really stocked up.  I was excited to try the strawberry salsa but it was too hot, in fact it all was, but I'm a big wimp when it comes to hot peppers. The horchata is handmade and delicious.  They throw pecans and some fruit in there too which is a yummy bonus!\n",
      "\n",
      "As if the good food wasn't enough to win me over the art in this restaurant sho did!  I'm a sucker for Mexican folk art and Frida Kahlo is my Oprah.  There's a painting of her and Diego hanging over the salsa bar, it's amazing.  All the paintings are great, love the artist.\n",
      "----------\n",
      "\n",
      "Calculated Polarity and Subjectivity\n",
      "====================================\n",
      "0.225595238095\n",
      "0.647619047619\n",
      "\n",
      "Luckily, I didn't have to travel far to make my connecting flight. And for this, I thank you, Phoenix.\n",
      "\n",
      "My brief layover was pleasant as the employees were kind and the flight was on time.  Hopefully, next time I can grace Phoenix with my presence for a little while longer.\n",
      "----------\n",
      "\n",
      "Calculated Polarity and Subjectivity\n",
      "====================================\n",
      "0.326388888889\n",
      "0.794444444444\n",
      "\n",
      "The oldish man who owns the store is as sweet as can be.  Perhaps sweeter than the cookies or ice cream.\n",
      "\n",
      "Here's the lowdown: Giant ice cream cookie sandwiches for super cheap.  The flavor permutations are basically endless.  I had snickerdoodle with cookies and cream ice cream.  It was marvelous.\n",
      "----------\n",
      "\n",
      "Calculated Polarity and Subjectivity\n",
      "====================================\n",
      "0.608333333333\n",
      "0.716666666667\n",
      "\n",
      "Wonderful Vietnamese sandwich shoppe. Their baguettes are great hot out of the oven with butter or in one of their many sandwich choices. They have a modest selection of baked goods along with some of the best egg rolls around. Bring cash or your ATM card as no credit cards are accepted but they have an ATM on premises.\n",
      "----------\n",
      "\n"
     ]
    }
   ],
   "source": [
    "gen_blobs = (TextBlob(i) for i in train_set['text'])\n",
    "sample    = itertools.islice(gen_blobs, 0, 10)\n",
    "\n",
    "for blob in sample:\n",
    "    print(\"Calculated Polarity and Subjectivity\")\n",
    "    print(\"====================================\")\n",
    "    print(blob.sentiment.polarity, blob.sentiment.subjectivity, sep='\\n', end='\\n\\n')\n",
    "    print(blob)\n",
    "    print(\"----------\\n\")"
   ]
  },
  {
   "cell_type": "markdown",
   "metadata": {
    "run_control": {
     "breakpoint": false,
     "state": "n"
    }
   },
   "source": [
    "![](http://i.imgur.com/vxcxbe5.gif)"
   ]
  },
  {
   "cell_type": "markdown",
   "metadata": {
    "run_control": {
     "breakpoint": false,
     "state": "n"
    }
   },
   "source": [
    "# Insight from Bad Reviews"
   ]
  },
  {
   "cell_type": "markdown",
   "metadata": {
    "run_control": {
     "breakpoint": false,
     "state": "n"
    }
   },
   "source": [
    "![](http://i.imgur.com/KUruZeB.gif)"
   ]
  },
  {
   "cell_type": "code",
   "execution_count": 105,
   "metadata": {
    "collapsed": false,
    "run_control": {
     "breakpoint": false,
     "read_only": false,
     "state": "n"
    }
   },
   "outputs": [],
   "source": [
    "train_set['negative_review_tags'] = gl.text_analytics.count_words(train_set['text'])"
   ]
  },
  {
   "cell_type": "code",
   "execution_count": 106,
   "metadata": {
    "collapsed": true,
    "run_control": {
     "breakpoint": false,
     "read_only": false,
     "state": "n"
    }
   },
   "outputs": [],
   "source": [
    "bad_review_words = (\n",
    "    'hate','terrible', 'awful', 'spit', 'disgusting', 'filthy', 'tasteless', 'rude', \n",
    "    'dirty', 'slow', 'poor', 'late', 'angry', 'flies', 'disappointed', 'disappointing', 'wait', \n",
    "    'waiting', 'dreadful', 'appalling', 'horrific', 'horrifying', 'horrible', 'horrendous', 'atrocious', \n",
    "    'abominable', 'deplorable', 'abhorrent', 'frightful', 'shocking', 'hideous', 'ghastly', 'grim', \n",
    "    'dire', 'unspeakable', 'gruesome'\n",
    ")\n",
    "train_set['negative_review_tags'] = train_set['negative_review_tags'].dict_trim_by_keys(bad_review_words, exclude=False)"
   ]
  },
  {
   "cell_type": "code",
   "execution_count": 107,
   "metadata": {
    "collapsed": false,
    "run_control": {
     "breakpoint": false,
     "read_only": false,
     "state": "n"
    }
   },
   "outputs": [
    {
     "name": "stdout",
     "output_type": "stream",
     "text": [
      "PROGRESS: Creating a validation set from 5 percent of training data. This may take a while.\n",
      "          You can set ``validation_set=None`` to disable validation tracking.\n",
      "\n",
      "PROGRESS: Linear regression:\n",
      "PROGRESS: --------------------------------------------------------\n",
      "PROGRESS: Number of examples          : 164054\n",
      "PROGRESS: Number of features          : 7\n",
      "PROGRESS: Number of unpacked features : 551\n",
      "PROGRESS: Number of coefficients    : 50130\n",
      "PROGRESS: Starting L-BFGS\n",
      "PROGRESS: --------------------------------------------------------\n",
      "PROGRESS: +-----------+----------+-----------+--------------+--------------------+----------------------+---------------+-----------------+\n",
      "PROGRESS: | Iteration | Passes   | Step size | Elapsed Time | Training-max_error | Validation-max_error | Training-rmse | Validation-rmse |\n",
      "PROGRESS: +-----------+----------+-----------+--------------+--------------------+----------------------+---------------+-----------------+\n",
      "PROGRESS: | 1         | 6        | 0.000000  | 1.454297     | 18.547201          | 8.797567             | 1.342222      | 1.401939        |\n",
      "PROGRESS: | 2         | 9        | 5.000000  | 2.172289     | 13.394241          | 5.203442             | 0.984446      | 1.176960        |\n",
      "PROGRESS: | 3         | 10       | 5.000000  | 2.478749     | 30.440370          | 11.241691            | 1.950388      | 2.076235        |\n",
      "PROGRESS: | 4         | 12       | 1.000000  | 2.958619     | 4.464780           | 5.129925             | 0.821395      | 1.108677        |\n",
      "PROGRESS: | 5         | 13       | 1.000000  | 3.261281     | 4.275049           | 5.307988             | 0.812739      | 1.107683        |\n",
      "PROGRESS: | 6         | 14       | 1.000000  | 3.591777     | 4.246562           | 5.457276             | 0.804644      | 1.112277        |\n",
      "PROGRESS: | 10        | 18       | 1.000000  | 4.796135     | 4.587629           | 6.365625             | 0.780278      | 1.144836        |\n",
      "PROGRESS: +-----------+----------+-----------+--------------+--------------------+----------------------+---------------+-----------------+\n"
     ]
    }
   ],
   "source": [
    "model = gl.linear_regression.create(train_set, target='stars', \n",
    "                                    features = ['user_id', 'business_id', 'categories_dict', 'negative_review_tags', \n",
    "                                                'user_avg_stars', 'votes', 'business_avg_stars'])"
   ]
  },
  {
   "cell_type": "code",
   "execution_count": 108,
   "metadata": {
    "collapsed": false,
    "run_control": {
     "breakpoint": false,
     "read_only": false,
     "state": "n"
    }
   },
   "outputs": [
    {
     "data": {
      "text/plain": [
       "dtype: dict\n",
       "Rows: 5\n",
       "[{'Sushi Bars': 1, 'Restaurants': 1}, {'Food': 1, 'Tea Rooms': 1, 'Japanese': 1, 'Restaurants': 1}, {'Pubs': 1, 'Bars': 1, 'Restaurants': 1, 'Nightlife': 1, 'Irish': 1}, {'Breakfast & Brunch': 1, 'Bars': 1, 'Mexican': 1, 'Nightlife': 1, 'Restaurants': 1}, {'American (Traditional)': 1, 'Bars': 1, 'Nightlife': 1, 'Lounges': 1, 'Restaurants': 1}]"
      ]
     },
     "execution_count": 108,
     "metadata": {},
     "output_type": "execute_result"
    }
   ],
   "source": [
    "test_set['categories_dict'] = test_set.apply(lambda row: tags_to_dict(row['categories']))\n",
    "test_set['categories_dict'].head(5)"
   ]
  },
  {
   "cell_type": "code",
   "execution_count": 109,
   "metadata": {
    "collapsed": false,
    "run_control": {
     "breakpoint": false,
     "read_only": false,
     "state": "n"
    }
   },
   "outputs": [
    {
     "data": {
      "text/plain": [
       "{'max_error': 6.253360542412668, 'rmse': 1.1452486861156776}"
      ]
     },
     "execution_count": 109,
     "metadata": {},
     "output_type": "execute_result"
    }
   ],
   "source": [
    "test_set['negative_review_tags'] = gl.text_analytics.count_words(test_set['text'])\n",
    "test_set['negative_review_tags'] = test_set['negative_review_tags'].dict_trim_by_keys(bad_review_words, exclude=False)\n",
    "\n",
    "model.evaluate(test_set)"
   ]
  },
  {
   "cell_type": "markdown",
   "metadata": {
    "run_control": {
     "breakpoint": false,
     "state": "n"
    }
   },
   "source": [
    "#  Magic!"
   ]
  },
  {
   "cell_type": "markdown",
   "metadata": {
    "run_control": {
     "breakpoint": false,
     "state": "n"
    }
   },
   "source": [
    "![](http://i.imgur.com/lDOUcN0.gif)"
   ]
  },
  {
   "cell_type": "markdown",
   "metadata": {
    "run_control": {
     "breakpoint": false,
     "state": "n"
    }
   },
   "source": [
    "# Just kidding, it's just the internet"
   ]
  },
  {
   "cell_type": "markdown",
   "metadata": {
    "run_control": {
     "breakpoint": false,
     "state": "n"
    }
   },
   "source": [
    "![](http://i.imgur.com/DDwEGGr.gif)"
   ]
  },
  {
   "cell_type": "markdown",
   "metadata": {
    "run_control": {
     "breakpoint": false,
     "state": "n"
    }
   },
   "source": [
    "![](http://i.imgur.com/qzfKPvB.gif)"
   ]
  }
 ],
 "metadata": {
  "celltoolbar": "Raw Cell Format",
  "kernelspec": {
   "display_name": "Python 2",
   "language": "python",
   "name": "python2"
  },
  "language_info": {
   "codemirror_mode": {
    "name": "ipython",
    "version": 2
   },
   "file_extension": ".py",
   "mimetype": "text/x-python",
   "name": "python",
   "nbconvert_exporter": "python",
   "pygments_lexer": "ipython2",
   "version": "2.7.10"
  }
 },
 "nbformat": 4,
 "nbformat_minor": 0
}
