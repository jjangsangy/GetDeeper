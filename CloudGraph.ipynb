{
 "cells": [
  {
   "cell_type": "markdown",
   "metadata": {
    "run_control": {
     "breakpoint": false,
     "read_only": false,
     "state": "d"
    }
   },
   "source": [
    "# Cloud Storage"
   ]
  },
  {
   "cell_type": "markdown",
   "metadata": {
    "run_control": {
     "breakpoint": false,
     "state": "n"
    }
   },
   "source": [
    "## Amazon S3 Data Warehousing"
   ]
  },
  {
   "cell_type": "code",
   "execution_count": 101,
   "metadata": {
    "collapsed": true,
    "run_control": {
     "breakpoint": false,
     "state": "n"
    }
   },
   "outputs": [],
   "source": [
    "from __future__ import print_function"
   ]
  },
  {
   "cell_type": "code",
   "execution_count": 1,
   "metadata": {
    "collapsed": false,
    "run_control": {
     "breakpoint": false,
     "read_only": false,
     "state": "d"
    }
   },
   "outputs": [],
   "source": [
    "import os\n",
    "import sys\n",
    "import operator\n",
    "import functools\n",
    "import itertools\n",
    "import boto\n",
    "import warnings\n",
    "import json\n",
    "import pandas as pd\n",
    "import graphlab as gl\n",
    "from textblob import TextBlob\n",
    "from os.path import join as jp\n",
    "\n",
    "try:\n",
    "    from configparser import ConfigParser\n",
    "except ImportError:\n",
    "    from ConfigParser import ConfigParser\n",
    "    \n",
    "gl.canvas.set_target('ipynb')"
   ]
  },
  {
   "cell_type": "markdown",
   "metadata": {
    "run_control": {
     "breakpoint": false,
     "state": "n"
    }
   },
   "source": [
    "## S3 Remote Data Warehousing"
   ]
  },
  {
   "cell_type": "code",
   "execution_count": 4,
   "metadata": {
    "collapsed": true,
    "run_control": {
     "breakpoint": false,
     "read_only": false,
     "state": "n"
    }
   },
   "outputs": [],
   "source": [
    "import matplotlib.pyplot as plt"
   ]
  },
  {
   "cell_type": "code",
   "execution_count": 5,
   "metadata": {
    "collapsed": false,
    "run_control": {
     "breakpoint": false,
     "read_only": false,
     "state": "n"
    }
   },
   "outputs": [],
   "source": [
    "def aws_config(cfg):\n",
    "    \"\"\"\n",
    "    Queries local environment for aws configurations\n",
    "    \"\"\"\n",
    "    home, user = os.getenv('HOME'), os.getlogin()\n",
    "    valid_user = user in cfg.sections()\n",
    "\n",
    "    return user if valid_user else cfg.sections()[0]\n",
    "\n",
    "def s3_signin(**auth):\n",
    "    \"\"\"\n",
    "    Convenience function for validating keys  and providing\n",
    "    access to bucket shares.\n",
    "    \n",
    "    Returns S3Object\n",
    "    \"\"\"\n",
    "    token_ids  = 'aws_access_key_id', 'aws_secret_access_key'\n",
    "\n",
    "    cfg = ConfigParser()\n",
    "    cfg.read(jp(os.getenv('HOME'), '.aws', 'credentials'))\n",
    "\n",
    "    account    = itertools.repeat(aws_config(cfg), 2)\n",
    "    valid_auth = all(auth.has_key(i) for i in token_ids)\n",
    "    token      = zip(account, token_ids) if not valid_auth else [token_ids]\n",
    "    store      = cfg if not auth else auth\n",
    "    \n",
    "    user_id    = dict(zip(token_ids, map(lambda t: store.get(*t), token)))\n",
    "    \n",
    "    if not all(user_id.values()):\n",
    "        raise ValueError('No valid authorization found')\n",
    "\n",
    "    return boto.connect_s3(**user_id)"
   ]
  },
  {
   "cell_type": "markdown",
   "metadata": {
    "run_control": {
     "breakpoint": false,
     "state": "n"
    }
   },
   "source": [
    "## Key and Configuration Management"
   ]
  },
  {
   "cell_type": "code",
   "execution_count": 6,
   "metadata": {
    "collapsed": false,
    "run_control": {
     "breakpoint": false,
     "read_only": false,
     "state": "n"
    }
   },
   "outputs": [],
   "source": [
    "s3 = s3_signin()\n",
    "\n",
    "gl.aws.set_credentials(s3.gs_access_key_id, s3.gs_secret_access_key)"
   ]
  },
  {
   "cell_type": "markdown",
   "metadata": {
    "run_control": {
     "breakpoint": false,
     "state": "n"
    }
   },
   "source": [
    "## Streaming Remote IO"
   ]
  },
  {
   "cell_type": "code",
   "execution_count": 7,
   "metadata": {
    "collapsed": false,
    "run_control": {
     "breakpoint": false,
     "read_only": false,
     "state": "n"
    }
   },
   "outputs": [],
   "source": [
    "def remote_json_loader(filename):\n",
    "    \"\"\"\n",
    "    Load JSON from a remote data store.\n",
    "    \"\"\"\n",
    "    sf = gl.SFrame.read_csv(filename, delimiter='\\n', header=False)\n",
    "    return sf.unpack('X1', column_name_prefix='')\n",
    "\n",
    "def gen_data_url(s3, bucket , dataset):\n",
    "    s3_dir   = s3.get_bucket(bucket)\n",
    "    s3_urls  = [\n",
    "        '/'.join(['s3:/', s3_dir.name, d.name])\n",
    "                for d in s3_dir.list(dataset)\n",
    "    ]\n",
    "    for url in s3_urls:\n",
    "        yield url\n",
    "\n",
    "def flatten(sf):\n",
    "    \"\"\"\n",
    "    Flatten nested SFrame DataStructure. \n",
    "    \"\"\"\n",
    "    dtypes = dict(zip(sf.column_names(), gl.SFrame.dtype(sf)))\n",
    "    d = {k:v for k,v in dtypes.items() if v in [dict, list]}\n",
    "    sv = gl.SFrame.copy(sf)\n",
    "    for p in d:\n",
    "        sv = sv.unpack(p, column_name_prefix='')\n",
    "    return sv"
   ]
  },
  {
   "cell_type": "markdown",
   "metadata": {
    "run_control": {
     "breakpoint": false,
     "state": "n"
    }
   },
   "source": [
    "# This is Going To Take a While"
   ]
  },
  {
   "cell_type": "code",
   "execution_count": 43,
   "metadata": {
    "collapsed": false,
    "run_control": {
     "breakpoint": false,
     "state": "n"
    }
   },
   "outputs": [],
   "source": [
    "def unpack_json(fp, index=None):\n",
    "    return pd.DataFrame.from_records([json.loads(entry) for entry in open(fp)], index=index)"
   ]
  },
  {
   "cell_type": "code",
   "execution_count": 47,
   "metadata": {
    "collapsed": false,
    "run_control": {
     "breakpoint": false,
     "state": "n"
    }
   },
   "outputs": [],
   "source": [
    "user     = pack_json('s3://ds3-machine-learning/yelp/yelp_academic_dataset_user.json')\n",
    "review   = pack_json('s3://ds3-machine-learning/yelp/Data/yelp/yelp_academic_dataset_review.json') \n",
    "business = pack_json('s3://ds3-machine-learning/yelp/Data/yelp/yelp_academic_dataset_business.json')"
   ]
  },
  {
   "cell_type": "markdown",
   "metadata": {
    "run_control": {
     "breakpoint": false,
     "state": "n"
    }
   },
   "source": [
    "# An hour and 8 GB of Memory Later"
   ]
  },
  {
   "cell_type": "code",
   "execution_count": 57,
   "metadata": {
    "collapsed": true,
    "run_control": {
     "breakpoint": false,
     "state": "n"
    }
   },
   "outputs": [],
   "source": [
    "sf_business = gl.SFrame(business)\n",
    "sf_user     = gl.SFrame(user)\n",
    "sf_review   = gl.SFrame(review)"
   ]
  },
  {
   "cell_type": "markdown",
   "metadata": {
    "run_control": {
     "breakpoint": false,
     "state": "n"
    }
   },
   "source": [
    "# Join Values using Business ID"
   ]
  },
  {
   "cell_type": "code",
   "execution_count": 59,
   "metadata": {
    "collapsed": false,
    "run_control": {
     "breakpoint": false,
     "read_only": false,
     "state": "d"
    }
   },
   "outputs": [],
   "source": [
    "review_business_table = sf_review.join(sf_business, how='inner', on='business_id')\n",
    "review_business_table = review_business_table.rename({'stars.1': 'business_avg_stars', \n",
    "                                                      'type.1':  'business_type',\n",
    "                                                      'review_count': 'business_review_count'})"
   ]
  },
  {
   "cell_type": "code",
   "execution_count": 60,
   "metadata": {
    "collapsed": false,
    "run_control": {
     "breakpoint": false,
     "state": "n"
    }
   },
   "outputs": [],
   "source": [
    "user_business_review_table = review_business_table.join(sf_user, how='inner', on='user_id')\n",
    "user_business_review_table = user_business_review_table.rename({'name.1': 'user_name', \n",
    "                                                                'type.1': 'user_type', \n",
    "                                                                'average_stars': 'user_avg_stars',\n",
    "                                                                'review_count':  'user_review_count'})"
   ]
  },
  {
   "cell_type": "markdown",
   "metadata": {
    "run_control": {
     "breakpoint": false,
     "state": "n"
    }
   },
   "source": [
    "# Split Testing and Training Set"
   ]
  },
  {
   "cell_type": "code",
   "execution_count": 61,
   "metadata": {
    "collapsed": true,
    "run_control": {
     "breakpoint": false,
     "state": "n"
    }
   },
   "outputs": [],
   "source": [
    "train_set, test_set = user_business_review_table.random_split(0.8, seed=1)"
   ]
  },
  {
   "cell_type": "code",
   "execution_count": 63,
   "metadata": {
    "collapsed": false,
    "run_control": {
     "breakpoint": false,
     "state": "n"
    }
   },
   "outputs": [
    {
     "data": {
      "application/javascript": [
       "$(\"head\").append($(\"<link/>\").attr({\n",
       "  rel:  \"stylesheet\",\n",
       "  type: \"text/css\",\n",
       "  href: \"//cdnjs.cloudflare.com/ajax/libs/font-awesome/4.1.0/css/font-awesome.min.css\"\n",
       "}));\n",
       "$(\"head\").append($(\"<link/>\").attr({\n",
       "  rel:  \"stylesheet\",\n",
       "  type: \"text/css\",\n",
       "  href: \"//dato.com/files/canvas/1.4.0/css/canvas.css\"\n",
       "}));\n",
       "\n",
       "            (function(){\n",
       "\n",
       "                var e = null;\n",
       "                if (typeof element == 'undefined') {\n",
       "                    var scripts = document.getElementsByTagName('script');\n",
       "                    var thisScriptTag = scripts[scripts.length-1];\n",
       "                    var parentDiv = thisScriptTag.parentNode;\n",
       "                    e = document.createElement('div');\n",
       "                    parentDiv.appendChild(e);\n",
       "                } else {\n",
       "                    e = element[0];\n",
       "                }\n",
       "\n",
       "                require(['//dato.com/files/canvas/1.4.0/js/ipython_app.js'], function(IPythonApp){\n",
       "                    var app = new IPythonApp();\n",
       "                    app.attachView('sarray','Categorical', {\"ipython\": true, \"sketch\": {\"complete\": true, \"numeric\": false, \"num_unique\": 371, \"num_undefined\": 0, \"progress\": 1.0, \"frequent_items\": {\"El Mirage\": {\"frequency\": 284, \"value\": \"El Mirage\"}, \"Gila Bend\": {\"frequency\": 171, \"value\": \"Gila Bend\"}, \"Maricopa\": {\"frequency\": 971, \"value\": \"Maricopa\"}, \"Phoenix\": {\"frequency\": 175992, \"value\": \"Phoenix\"}, \"Pointe-Claire\": {\"frequency\": 217, \"value\": \"Pointe-Claire\"}, \"Anthem\": {\"frequency\": 954, \"value\": \"Anthem\"}, \"Urbana\": {\"frequency\": 2865, \"value\": \"Urbana\"}, \"Brossard\": {\"frequency\": 139, \"value\": \"Brossard\"}, \"Verdun\": {\"frequency\": 492, \"value\": \"Verdun\"}, \"Carefree\": {\"frequency\": 630, \"value\": \"Carefree\"}, \"Litchfield Park\": {\"frequency\": 1146, \"value\": \"Litchfield Park\"}, \"Indian Trail\": {\"frequency\": 343, \"value\": \"Indian Trail\"}, \"Dorval\": {\"frequency\": 238, \"value\": \"Dorval\"}, \"Paradise\": {\"frequency\": 315, \"value\": \"Paradise\"}, \"Surprise\": {\"frequency\": 5729, \"value\": \"Surprise\"}, \"Gilbert\": {\"frequency\": 21487, \"value\": \"Gilbert\"}, \"Goodyear\": {\"frequency\": 5137, \"value\": \"Goodyear\"}, \"Sun City West\": {\"frequency\": 139, \"value\": \"Sun City West\"}, \"Karlsruhe\": {\"frequency\": 1921, \"value\": \"Karlsruhe\"}, \"Henderson\": {\"frequency\": 39766, \"value\": \"Henderson\"}, \"Dollard-Des-Ormeaux\": {\"frequency\": 150, \"value\": \"Dollard-Des- ...\"}, \"Edinburgh\": {\"frequency\": 18761, \"value\": \"Edinburgh\"}, \"Fitchburg\": {\"frequency\": 1079, \"value\": \"Fitchburg\"}, \"Mount Lebanon\": {\"frequency\": 147, \"value\": \"Mount Lebanon\"}, \"Fort Mill\": {\"frequency\": 1622, \"value\": \"Fort Mill\"}, \"Harrisburg\": {\"frequency\": 184, \"value\": \"Harrisburg\"}, \"Pittsburgh\": {\"frequency\": 49850, \"value\": \"Pittsburgh\"}, \"Champaign\": {\"frequency\": 6828, \"value\": \"Champaign\"}, \"Peoria\": {\"frequency\": 9090, \"value\": \"Peoria\"}, \"Apache Junction\": {\"frequency\": 958, \"value\": \"Apache Junction\"}, \"Carnegie\": {\"frequency\": 317, \"value\": \"Carnegie\"}, \"Chandler\": {\"frequency\": 32899, \"value\": \"Chandler\"}, \"Queen Creek\": {\"frequency\": 3074, \"value\": \"Queen Creek\"}, \"Las Vegas\": {\"frequency\": 493490, \"value\": \"Las Vegas\"}, \"Montreal\": {\"frequency\": 13177, \"value\": \"Montreal\"}, \"Sun City\": {\"frequency\": 621, \"value\": \"Sun City\"}, \"Matthews\": {\"frequency\": 2596, \"value\": \"Matthews\"}, \"Avondale\": {\"frequency\": 3730, \"value\": \"Avondale\"}, \"Cave Creek\": {\"frequency\": 2937, \"value\": \"Cave Creek\"}, \"Pineville\": {\"frequency\": 1191, \"value\": \"Pineville\"}, \"North Las Vegas\": {\"frequency\": 7933, \"value\": \"North Las Vegas\"}, \"Summerlin\": {\"frequency\": 215, \"value\": \"Summerlin\"}, \"Fountain Hills\": {\"frequency\": 1435, \"value\": \"Fountain Hills\"}, \"Waterloo\": {\"frequency\": 1361, \"value\": \"Waterloo\"}, \"Montr\\ufffd\\ufffdal\": {\"frequency\": 22984, \"value\": \"Montr\\u00e9al\"}, \"Ahwatukee\": {\"frequency\": 227, \"value\": \"Ahwatukee\"}, \"Buckeye\": {\"frequency\": 727, \"value\": \"Buckeye\"}, \"Dollard-des-Ormeaux\": {\"frequency\": 159, \"value\": \"Dollard-des- ...\"}, \"Paradise Valley\": {\"frequency\": 1580, \"value\": \"Paradise Valley\"}, \"Mint Hill\": {\"frequency\": 253, \"value\": \"Mint Hill\"}, \"Gold Canyon\": {\"frequency\": 288, \"value\": \"Gold Canyon\"}, \"Outremont\": {\"frequency\": 225, \"value\": \"Outremont\"}, \"Kitchener\": {\"frequency\": 749, \"value\": \"Kitchener\"}, \"Enterprise\": {\"frequency\": 131, \"value\": \"Enterprise\"}, \"Glendale\": {\"frequency\": 18882, \"value\": \"Glendale\"}, \"Mesa\": {\"frequency\": 31165, \"value\": \"Mesa\"}, \"Laval\": {\"frequency\": 575, \"value\": \"Laval\"}, \"Boulder City\": {\"frequency\": 328, \"value\": \"Boulder City\"}, \"Black Canyon City\": {\"frequency\": 207, \"value\": \"Black Canyon City\"}, \"Laveen\": {\"frequency\": 580, \"value\": \"Laveen\"}, \"Waunakee\": {\"frequency\": 135, \"value\": \"Waunakee\"}, \"Charlotte\": {\"frequency\": 69578, \"value\": \"Charlotte\"}, \"Madison\": {\"frequency\": 29715, \"value\": \"Madison\"}, \"Tempe\": {\"frequency\": 51854, \"value\": \"Tempe\"}, \"West Mifflin\": {\"frequency\": 192, \"value\": \"West Mifflin\"}, \"Concord\": {\"frequency\": 1441, \"value\": \"Concord\"}, \"Tolleson\": {\"frequency\": 492, \"value\": \"Tolleson\"}, \"Westmount\": {\"frequency\": 194, \"value\": \"Westmount\"}, \"San Tan Valley\": {\"frequency\": 389, \"value\": \"San Tan Valley\"}, \"Verona\": {\"frequency\": 408, \"value\": \"Verona\"}, \"Belmont\": {\"frequency\": 441, \"value\": \"Belmont\"}, \"Huntersville\": {\"frequency\": 246, \"value\": \"Huntersville\"}, \"Scottsdale\": {\"frequency\": 96499, \"value\": \"Scottsdale\"}, \"Middleton\": {\"frequency\": 1968, \"value\": \"Middleton\"}, \"West Homestead\": {\"frequency\": 179, \"value\": \"West Homestead\"}, \"Ettlingen\": {\"frequency\": 130, \"value\": \"Ettlingen\"}, \"Wickenburg\": {\"frequency\": 510, \"value\": \"Wickenburg\"}, \"Casa Grande\": {\"frequency\": 969, \"value\": \"Casa Grande\"}, \"Monona\": {\"frequency\": 505, \"value\": \"Monona\"}, \"Saint-Laurent\": {\"frequency\": 259, \"value\": \"Saint-Laurent\"}, \"Homestead\": {\"frequency\": 952, \"value\": \"Homestead\"}, \"Florence\": {\"frequency\": 201, \"value\": \"Florence\"}, \"Spring Valley\": {\"frequency\": 243, \"value\": \"Spring Valley\"}, \"Sun Prairie\": {\"frequency\": 831, \"value\": \"Sun Prairie\"}}, \"size\": 1255351}, \"selected_variable\": {\"view_file\": \"sarray\", \"view_components\": [\"Categorical\"], \"descriptives\": {\"rows\": 1255351}, \"dtype\": \"str\", \"type\": \"SArray\", \"view_component\": \"Categorical\", \"name\": [\"<temporary SArray>\"]}, \"histogram\": null}, e);\n",
       "                });\n",
       "            })();\n",
       "        "
      ],
      "text/plain": [
       "<IPython.core.display.Javascript object>"
      ]
     },
     "execution_count": 63,
     "metadata": {},
     "output_type": "execute_result"
    }
   ],
   "source": [
    "train_set['city'].show()"
   ]
  },
  {
   "cell_type": "markdown",
   "metadata": {
    "run_control": {
     "breakpoint": false,
     "state": "n"
    }
   },
   "source": [
    "# Train Model"
   ]
  },
  {
   "cell_type": "code",
   "execution_count": 64,
   "metadata": {
    "collapsed": false,
    "run_control": {
     "breakpoint": false,
     "state": "n"
    }
   },
   "outputs": [
    {
     "name": "stdout",
     "output_type": "stream",
     "text": [
      "PROGRESS: Creating a validation set from 5 percent of training data. This may take a while.\n",
      "          You can set ``validation_set=None`` to disable validation tracking.\n",
      "\n",
      "PROGRESS: Linear regression:\n",
      "PROGRESS: --------------------------------------------------------\n",
      "PROGRESS: Number of examples          : 1192538\n",
      "PROGRESS: Number of features          : 5\n",
      "PROGRESS: Number of unpacked features : 5\n",
      "PROGRESS: Number of coefficients    : 375\n",
      "PROGRESS: Starting Newton Method\n",
      "PROGRESS: --------------------------------------------------------\n",
      "PROGRESS: +-----------+----------+--------------+--------------------+----------------------+---------------+-----------------+\n",
      "PROGRESS: | Iteration | Passes   | Elapsed Time | Training-max_error | Validation-max_error | Training-rmse | Validation-rmse |\n",
      "PROGRESS: +-----------+----------+--------------+--------------------+----------------------+---------------+-----------------+\n",
      "PROGRESS: | 1         | 2        | 1.106857     | 4.881071           | 4.079730             | 1.027302      | 1.026331        |\n",
      "PROGRESS: +-----------+----------+--------------+--------------------+----------------------+---------------+-----------------+\n"
     ]
    }
   ],
   "source": [
    "model = gl.linear_regression.create(train_set, target='stars', \n",
    "                                    features = ['user_avg_stars','business_avg_stars', \n",
    "                                                'user_review_count', 'business_review_count', \n",
    "                                                'city'])"
   ]
  },
  {
   "cell_type": "code",
   "execution_count": 65,
   "metadata": {
    "collapsed": false,
    "run_control": {
     "breakpoint": false,
     "state": "n"
    }
   },
   "outputs": [
    {
     "data": {
      "text/plain": [
       "{'max_error': 4.8425586122850355, 'rmse': 1.0301833730270589}"
      ]
     },
     "execution_count": 65,
     "metadata": {},
     "output_type": "execute_result"
    }
   ],
   "source": [
    "model.evaluate(test_set)"
   ]
  },
  {
   "cell_type": "code",
   "execution_count": 66,
   "metadata": {
    "collapsed": false,
    "run_control": {
     "breakpoint": false,
     "state": "n"
    }
   },
   "outputs": [
    {
     "name": "stdout",
     "output_type": "stream",
     "text": [
      "Class                         : LinearRegression\n",
      "\n",
      "Schema\n",
      "------\n",
      "Number of coefficients        : 375\n",
      "Number of examples            : 1192538\n",
      "Number of feature columns     : 5\n",
      "Number of unpacked features   : 5\n",
      "\n",
      "Hyperparameters\n",
      "---------------\n",
      "L1 penalty                    : 0.0\n",
      "L2 penalty                    : 0.01\n",
      "\n",
      "Training Summary\n",
      "----------------\n",
      "Solver                        : auto\n",
      "Solver iterations             : 1\n",
      "Solver status                 : SUCCESS: Optimal solution found.\n",
      "Training time (sec)           : 1.5014\n",
      "\n",
      "Settings\n",
      "--------\n",
      "Residual sum of squares       : 1258545.0322\n",
      "Training RMSE                 : 1.0273\n",
      "\n",
      "Highest Positive Coefficients\n",
      "-----------------------------\n",
      "city[Stowe Township]          : 1.4463\n",
      "city[Delmont]                 : 0.9832\n",
      "city[Bruchsal]                : 0.8559\n",
      "city[Victoria Park]           : 0.845\n",
      "user_avg_stars                : 0.811\n",
      "\n",
      "Lowest Negative Coefficients\n",
      "----------------------------\n",
      "(intercept)                   : -2.1048\n",
      "city[Balerno]                 : -1.6806\n",
      "city[Ingram]                  : -1.4781\n",
      "city[London]                  : -1.354\n",
      "city[Straiton]                : -0.9463\n",
      "\n"
     ]
    }
   ],
   "source": [
    "model.summary()"
   ]
  },
  {
   "cell_type": "markdown",
   "metadata": {
    "run_control": {
     "breakpoint": false,
     "state": "n"
    }
   },
   "source": [
    "# Categorical Features at Scale"
   ]
  },
  {
   "cell_type": "code",
   "execution_count": 67,
   "metadata": {
    "collapsed": false,
    "run_control": {
     "breakpoint": false,
     "state": "n"
    }
   },
   "outputs": [
    {
     "name": "stdout",
     "output_type": "stream",
     "text": [
      "PROGRESS: Creating a validation set from 5 percent of training data. This may take a while.\n",
      "          You can set ``validation_set=None`` to disable validation tracking.\n",
      "\n",
      "PROGRESS: Linear regression:\n",
      "PROGRESS: --------------------------------------------------------\n",
      "PROGRESS: Number of examples          : 1192485\n",
      "PROGRESS: Number of features          : 4\n",
      "PROGRESS: Number of unpacked features : 4\n",
      "PROGRESS: Number of coefficients    : 377891\n",
      "PROGRESS: Starting L-BFGS\n",
      "PROGRESS: --------------------------------------------------------\n",
      "PROGRESS: +-----------+----------+-----------+--------------+--------------------+----------------------+---------------+-----------------+\n",
      "PROGRESS: | Iteration | Passes   | Step size | Elapsed Time | Training-max_error | Validation-max_error | Training-rmse | Validation-rmse |\n",
      "PROGRESS: +-----------+----------+-----------+--------------+--------------------+----------------------+---------------+-----------------+\n",
      "PROGRESS: | 1         | 6        | 0.000000  | 3.367799     | 3.596876           | 3.611681             | 1.054053      | 1.173952        |\n",
      "PROGRESS: | 2         | 9        | 5.000000  | 5.554089     | 4.399236           | 6.133925             | 0.895340      | 1.275617        |\n",
      "PROGRESS: | 3         | 10       | 5.000000  | 6.542868     | 8.612918           | 11.514766            | 1.520540      | 1.719036        |\n",
      "PROGRESS: | 4         | 12       | 1.000000  | 8.000823     | 4.514468           | 7.050871             | 0.869940      | 1.260537        |\n",
      "PROGRESS: | 5         | 13       | 1.000000  | 8.924113     | 4.498076           | 7.152149             | 0.867705      | 1.259954        |\n",
      "PROGRESS: | 6         | 14       | 1.000000  | 9.786910     | 4.508951           | 7.522212             | 0.863391      | 1.260156        |\n",
      "PROGRESS: | 7         | 15       | 1.000000  | 10.749332    | 4.583049           | 7.533589             | 0.861428      | 1.270591        |\n",
      "PROGRESS: | 8         | 16       | 1.000000  | 11.658483    | 4.597325           | 7.479731             | 0.860965      | 1.273544        |\n",
      "PROGRESS: | 9         | 17       | 1.000000  | 12.500645    | 4.592901           | 7.371815             | 0.860731      | 1.272631        |\n",
      "PROGRESS: | 10        | 18       | 1.000000  | 13.354645    | 4.590827           | 7.287926             | 0.860542      | 1.272895        |\n",
      "PROGRESS: +-----------+----------+-----------+--------------+--------------------+----------------------+---------------+-----------------+\n"
     ]
    }
   ],
   "source": [
    "model = gl.linear_regression.create(train_set, target='stars', \n",
    "                                    features = ['user_id','business_id',\n",
    "                                                'user_avg_stars','business_avg_stars'],\n",
    "                                                max_iterations=10)"
   ]
  },
  {
   "cell_type": "markdown",
   "metadata": {
    "run_control": {
     "breakpoint": false,
     "state": "n"
    }
   },
   "source": [
    "# Dictionary and List Features"
   ]
  },
  {
   "cell_type": "code",
   "execution_count": 68,
   "metadata": {
    "collapsed": false,
    "run_control": {
     "breakpoint": false,
     "state": "n"
    }
   },
   "outputs": [
    {
     "data": {
      "text/plain": [
       "dtype: dict\n",
       "Rows: 3\n",
       "[{'funny': 0, 'useful': 2, 'cool': 1}, {'funny': 0, 'useful': 2, 'cool': 0}, {'funny': 0, 'useful': 1, 'cool': 1}]"
      ]
     },
     "execution_count": 68,
     "metadata": {},
     "output_type": "execute_result"
    }
   ],
   "source": [
    "train_set['votes'].head(3)"
   ]
  },
  {
   "cell_type": "code",
   "execution_count": 69,
   "metadata": {
    "collapsed": true,
    "run_control": {
     "breakpoint": false,
     "state": "n"
    }
   },
   "outputs": [],
   "source": [
    "tags_to_dict = lambda tags: dict(zip(tags, [1 for tag in tags]))"
   ]
  },
  {
   "cell_type": "markdown",
   "metadata": {
    "run_control": {
     "breakpoint": false,
     "state": "n"
    }
   },
   "source": [
    "# Using Review Category Tags"
   ]
  },
  {
   "cell_type": "code",
   "execution_count": 70,
   "metadata": {
    "collapsed": false,
    "run_control": {
     "breakpoint": false,
     "state": "n"
    }
   },
   "outputs": [
    {
     "data": {
      "text/plain": [
       "dtype: dict\n",
       "Rows: 5\n",
       "[{'Health & Medical': 1, 'Doctors': 1}, {'Health & Medical': 1, 'Doctors': 1}, {'Health & Medical': 1, 'Doctors': 1}, {'Health & Medical': 1, 'Doctors': 1}, {'Health & Medical': 1, 'Doctors': 1}]"
      ]
     },
     "execution_count": 70,
     "metadata": {},
     "output_type": "execute_result"
    }
   ],
   "source": [
    "train_set['categories_dict'] = train_set.apply(lambda row: tags_to_dict(row['categories']))\n",
    "train_set['categories_dict'].head(5)"
   ]
  },
  {
   "cell_type": "code",
   "execution_count": 71,
   "metadata": {
    "collapsed": false,
    "run_control": {
     "breakpoint": false,
     "state": "n"
    }
   },
   "outputs": [
    {
     "name": "stdout",
     "output_type": "stream",
     "text": [
      "PROGRESS: Creating a validation set from 5 percent of training data. This may take a while.\n",
      "          You can set ``validation_set=None`` to disable validation tracking.\n",
      "\n",
      "PROGRESS: Linear regression:\n",
      "PROGRESS: --------------------------------------------------------\n",
      "PROGRESS: Number of examples          : 1192412\n",
      "PROGRESS: Number of features          : 6\n",
      "PROGRESS: Number of unpacked features : 788\n",
      "PROGRESS: Number of coefficients    : 378640\n",
      "PROGRESS: Starting L-BFGS\n",
      "PROGRESS: --------------------------------------------------------\n",
      "PROGRESS: +-----------+----------+-----------+--------------+--------------------+----------------------+---------------+-----------------+\n",
      "PROGRESS: | Iteration | Passes   | Step size | Elapsed Time | Training-max_error | Validation-max_error | Training-rmse | Validation-rmse |\n",
      "PROGRESS: +-----------+----------+-----------+--------------+--------------------+----------------------+---------------+-----------------+\n",
      "PROGRESS: | 1         | 6        | 0.000000  | 5.439396     | 20.972878          | 14.109778            | 1.336798      | 1.395170        |\n",
      "PROGRESS: | 2         | 9        | 5.000000  | 8.707224     | 13.882290          | 9.348500             | 1.084025      | 1.296816        |\n",
      "PROGRESS: | 3         | 10       | 5.000000  | 10.172195    | 27.675134          | 19.383063            | 2.346002      | 2.432889        |\n",
      "PROGRESS: | 4         | 12       | 1.000000  | 13.172340    | 4.217819           | 5.084060             | 0.899543      | 1.204987        |\n",
      "PROGRESS: | 5         | 13       | 1.000000  | 14.776512    | 4.250380           | 5.161600             | 0.889713      | 1.205887        |\n",
      "PROGRESS: | 6         | 14       | 1.000000  | 16.282623    | 4.212919           | 5.625337             | 0.869036      | 1.231516        |\n",
      "PROGRESS: | 7         | 15       | 1.000000  | 17.739285    | 4.277817           | 6.381066             | 0.860534      | 1.254311        |\n",
      "PROGRESS: | 8         | 16       | 1.000000  | 19.294463    | 4.265346           | 6.394699             | 0.856340      | 1.249882        |\n",
      "PROGRESS: | 9         | 17       | 1.000000  | 21.328200    | 4.299287           | 6.364358             | 0.853030      | 1.241757        |\n",
      "PROGRESS: | 10        | 18       | 1.000000  | 22.780559    | 4.344223           | 6.541604             | 0.849401      | 1.239778        |\n",
      "PROGRESS: +-----------+----------+-----------+--------------+--------------------+----------------------+---------------+-----------------+\n"
     ]
    }
   ],
   "source": [
    "model = gl.linear_regression.create(train_set, target='stars', \n",
    "                                    features = ['user_id','business_id', 'categories_dict',\n",
    "                                                'user_avg_stars','votes', 'business_avg_stars'])"
   ]
  },
  {
   "cell_type": "markdown",
   "metadata": {
    "run_control": {
     "breakpoint": false,
     "state": "n"
    }
   },
   "source": [
    "# Text Data: Using Raw Review Data\n"
   ]
  },
  {
   "cell_type": "code",
   "execution_count": 72,
   "metadata": {
    "collapsed": false,
    "run_control": {
     "breakpoint": false,
     "state": "n"
    }
   },
   "outputs": [
    {
     "data": {
      "text/plain": [
       "dtype: str\n",
       "Rows: 1\n",
       "[\"dr. goldberg offers everything i look for in a general practitioner.  he's nice and easy to talk to without being patronizing; he's always on time in seeing his patients; he's affiliated with a top-notch hospital (nyu) which my parents have explained to me is very important in case something happens and you need surgery; and you can get referrals to see specialists without having to see him first.  really, what more do you need?  i'm sitting here trying to think of any complaints i have about him, but i'm really drawing a blank.\"]"
      ]
     },
     "execution_count": 72,
     "metadata": {},
     "output_type": "execute_result"
    }
   ],
   "source": [
    "train_set['text'].head(1)"
   ]
  },
  {
   "cell_type": "code",
   "execution_count": 114,
   "metadata": {
    "collapsed": false,
    "run_control": {
     "breakpoint": false,
     "state": "n"
    }
   },
   "outputs": [
    {
     "name": "stdout",
     "output_type": "stream",
     "text": [
      "Calculated Polarity and Subjectivity\n",
      "====================================\n",
      "0.13125\n",
      "0.440773809524\n",
      "\n",
      "I'm writing this review to give you a heads up before you see this Doctor. The office staff and administration are very unprofessional. I left a message with multiple people regarding my bill, and no one ever called me back. I had to hound them to get an answer about my bill. \n",
      "\n",
      "Second, and most important, make sure your insurance is going to cover Dr. Goldberg's visits and blood work. He recommended to me that I get a physical, and he knew I was a student because I told him. I got the physical done. Later, I found out my health insurance doesn't pay for preventative visits. I received an $800.00 bill for the blood work. I can't pay for my bill because I'm a student and don't have any cash flow at this current time. I can't believe the Doctor wouldn't give me a heads up to make sure my insurance would cover work that wasn't necessary and was strictly preventative. The office can't do anything to help me cover the bill. In addition, the office staff said the onus is on me to make sure my insurance covers visits. Frustrating situation!\n",
      "----------\n",
      "\n",
      "Calculated Polarity and Subjectivity\n",
      "====================================\n",
      "0.259848484848\n",
      "0.487121212121\n",
      "\n",
      "I love Dr. Goldberg. Best doctor I've ever had, and I've had a bunch after moving around a lot in the past 25 years. Good listener, friendly & straightforward. Always presents options and takes a \"let's try the least extreme course\" first. Office staff has improved tremendously since Dr. Johnson left. Highest recommendation.\n",
      "----------\n",
      "\n",
      "Calculated Polarity and Subjectivity\n",
      "====================================\n",
      "0.148055555556\n",
      "0.620555555556\n",
      "\n",
      "Decent range somewhat close to the city.  The mats are pretty solid; however, the grass range needs to be tended too.  It's like hitting out of US Open type rough...not very amenable to practicing.  Which kind of defeats the purpose of going to a golf range...Still gets 3 stars because the range is lit up at night which is excellent for those of us who are addicted to this amazing game, but are somewhat short on time (having a job kinda sucks sometimes, no?).\n",
      "----------\n",
      "\n",
      "Calculated Polarity and Subjectivity\n",
      "====================================\n",
      "0.264393939394\n",
      "0.646590909091\n",
      "\n",
      "I drove by yesterday to get a sneak peak.  It re-opens on July 14th and I can't wait to take my kids.  The new range looks amazing.  The entire range appears to be turf, which may or many not help your game, but it looks really nice.  The tee boxes look state of the art and the club house looks like something you'll see on a newer course.  Can't wait to experience it!\n",
      "----------\n",
      "\n",
      "Calculated Polarity and Subjectivity\n",
      "====================================\n",
      "0.377651098901\n",
      "0.615726495726\n",
      "\n",
      "This place should have a lot more reviews - but I'm glad it doesn't, they don't need to get any busier.\n",
      "\n",
      "Its been there ages, and looks it. If you're all about ambiance, don't bother. If you pretend you're in a movie set in Pittsburgh 30 years ago it works pretty well. The service is sometimes hit or miss. Most of girls are good, one is very slow, one is amazing. They are all friendly and usually a few different people will check in to make sure that you're happy. Everything is made fresh so be prepared that nothing comes flying out of that kitchen - busy times it can take a good while to get food. \n",
      "\n",
      "The food is AWESOME! Worth any little complaints I might think up before it gets there. Once its on the table, I forget them all.\n",
      "\n",
      "-Fish Sandwiich\n",
      "-Salmon (huge and delicious)\n",
      "-Flounder\n",
      "-Shrimp a few ways (\"Norfolk\" style is oily for my taste, and I never had it growing up in Norfolk.)\n",
      "-Hawkins St Special\n",
      "-Prime Rib (sized for two, watch it)\n",
      "\n",
      "The prices are low, the portions are large, and just about everything on the menu  is delicious. I'm not one to pick a place because they give you a lot of food, but if you like a good value and don't want to compromise on taste, this place is a gem.\n",
      "----------\n",
      "\n",
      "Calculated Polarity and Subjectivity\n",
      "====================================\n",
      "0.207234432234\n",
      "0.443772893773\n",
      "\n",
      "This is a hidden gem, no really. It took us forever to find but well worth it. It is right across the street from the Rankin Police Station. The menu has a wide selection, I really couldn't decide what I wanted but I went with the ribeye sandwich. I'm glad i did too. Huge sandwich! I added mushrooms, it was very flavorful. My boyfriend got the fish sandwich, he enjoyed it as well. Fast and friendly service. Will definitely be back.\n",
      "----------\n",
      "\n",
      "Calculated Polarity and Subjectivity\n",
      "====================================\n",
      "0.119977380952\n",
      "0.484944322344\n",
      "\n",
      "This would be my local haunt, if I were ever to relocate to the Pittsburgh area. What a great little place! Such friendly staff, and some damn good eats!\n",
      " \n",
      "It was so great, that we actually went there twice during our 4-day vacation to catch the Steelers/Ravens game. \n",
      "\n",
      "They have daily sandwich specials. On Thursday night we went and had the special roast beef and cheese sand., and the .35 cent wings. Very, very tasty. I'm sorry, but this place kicks Primanti Bros. butt on the taste factor. They have about 8 different types of wings... reg., garlic, and I can't remember the rest - we got the regular, and I was wishing we would had ordered more.\n",
      "\n",
      "Going back on a Friday night, we ordered the buffalo chicken pizza and a pepperoni n' mushroom.  Wow! That buffalo chicken pizza was awesome.\n",
      "\n",
      "The other thing that stuck out for me was one of the customers. An older gentleman; he seemed to be a regular. I really, really wanted his SPAM t-shirt.\n",
      "----------\n",
      "\n",
      "Calculated Polarity and Subjectivity\n",
      "====================================\n",
      "0.236875\n",
      "0.6\n",
      "\n",
      "What a cool bar/restaurant.. I will no doubt be visiting again.  The service and prices were great.. and the restrooms were clean.   I had the buffalo chicken sandwich and it was delicious.  The menu consists of typical bar food food, however; theres a few different items on there which stand out on the menu..\n",
      "\n",
      "A cool bar off the beaten path that is a worth a trip.  \n",
      "\n",
      "Cheers ! !\n",
      "----------\n",
      "\n",
      "Calculated Polarity and Subjectivity\n",
      "====================================\n",
      "0.525\n",
      "0.65\n",
      "\n",
      "Good beer selection. Understaffed for a light Monday night crowd, it wasn't her fault she was the only server. But it took about an hour to get our sandwiches. Mine was one of the best reubens I've ever had.\n",
      "----------\n",
      "\n",
      "Calculated Polarity and Subjectivity\n",
      "====================================\n",
      "0.125202020202\n",
      "0.620303030303\n",
      "\n",
      "This quaint mini golf course is one of the oldest, yet most original and fun locations that I have yet visited.  Coming from Texas, it was nice to see a course located amongst the hilly and woody Pennsylvanian terrain. It can be frustrating that it is literally impossible to make a hole-in-one on most every hole and that the course also makes it extremely difficult to predict the direction on how the ball will follow through and bounce.  The cartoon-like outrageousness of the course proved to give laughs and a fun attempt to play.  Improvements were being made and I will look forward to returning on my next visit to the Pittsburgh area.  I enjoy traveling and visiting new courses and the only reason why I didn't give this location 5 stars is because it was impossible to intuitively shoot the ball for a best effort to beat par.\n",
      "----------\n",
      "\n"
     ]
    }
   ],
   "source": [
    "gen_blobs = (TextBlob(i) for i in test_set['text'])\n",
    "sample    = itertools.islice(gen_blobs, 0, 10)\n",
    "\n",
    "for blob in sample:\n",
    "    print(\"Calculated Polarity and Subjectivity\")\n",
    "    print(\"====================================\")\n",
    "    print(blob.sentiment.polarity, blob.sentiment.subjectivity, sep='\\n', end='\\n\\n')\n",
    "    print(blob)\n",
    "    print(\"----------\\n\")"
   ]
  },
  {
   "cell_type": "code",
   "execution_count": 115,
   "metadata": {
    "collapsed": false,
    "run_control": {
     "breakpoint": false,
     "state": "n"
    }
   },
   "outputs": [],
   "source": [
    "train_set['negative_review_tags'] = gl.text_analytics.count_words(train_set['text'])"
   ]
  },
  {
   "cell_type": "code",
   "execution_count": 74,
   "metadata": {
    "collapsed": true,
    "run_control": {
     "breakpoint": false,
     "state": "n"
    }
   },
   "outputs": [],
   "source": [
    "bad_review_words = (\n",
    "    'hate','terrible', 'awful', 'spit', 'disgusting', 'filthy', 'tasteless', 'rude', \n",
    "    'dirty', 'slow', 'poor', 'late', 'angry', 'flies', 'disappointed', 'disappointing', 'wait', \n",
    "    'waiting', 'dreadful', 'appalling', 'horrific', 'horrifying', 'horrible', 'horrendous', 'atrocious', \n",
    "    'abominable', 'deplorable', 'abhorrent', 'frightful', 'shocking', 'hideous', 'ghastly', 'grim', \n",
    "    'dire', 'unspeakable', 'gruesome'\n",
    ")\n",
    "train_set['negative_review_tags'] = train_set['negative_review_tags'].dict_trim_by_keys(bad_review_words, exclude=False)"
   ]
  },
  {
   "cell_type": "code",
   "execution_count": 76,
   "metadata": {
    "collapsed": false,
    "run_control": {
     "breakpoint": false,
     "state": "n"
    }
   },
   "outputs": [
    {
     "name": "stdout",
     "output_type": "stream",
     "text": [
      "PROGRESS: Creating a validation set from 5 percent of training data. This may take a while.\n",
      "          You can set ``validation_set=None`` to disable validation tracking.\n",
      "\n",
      "PROGRESS: Linear regression:\n",
      "PROGRESS: --------------------------------------------------------\n",
      "PROGRESS: Number of examples          : 1192662\n",
      "PROGRESS: Number of features          : 7\n",
      "PROGRESS: Number of unpacked features : 822\n",
      "PROGRESS: Number of coefficients    : 378570\n",
      "PROGRESS: Starting L-BFGS\n",
      "PROGRESS: --------------------------------------------------------\n",
      "PROGRESS: +-----------+----------+-----------+--------------+--------------------+----------------------+---------------+-----------------+\n",
      "PROGRESS: | Iteration | Passes   | Step size | Elapsed Time | Training-max_error | Validation-max_error | Training-rmse | Validation-rmse |\n",
      "PROGRESS: +-----------+----------+-----------+--------------+--------------------+----------------------+---------------+-----------------+\n",
      "PROGRESS: | 1         | 6        | 0.000000  | 5.896707     | 20.197197          | 13.241859            | 1.395228      | 1.462973        |\n",
      "PROGRESS: | 2         | 9        | 5.000000  | 9.143839     | 12.210390          | 6.111015             | 1.044022      | 1.247136        |\n",
      "PROGRESS: | 3         | 10       | 5.000000  | 10.975066    | 26.443260          | 17.945446            | 2.520691      | 2.588001        |\n",
      "PROGRESS: | 4         | 12       | 1.000000  | 13.761414    | 5.343999           | 5.384761             | 0.860604      | 1.156039        |\n",
      "PROGRESS: | 5         | 13       | 1.000000  | 15.297426    | 5.193549           | 5.291789             | 0.849547      | 1.155177        |\n",
      "PROGRESS: | 6         | 14       | 1.000000  | 16.889066    | 4.891370           | 5.573370             | 0.825627      | 1.177029        |\n",
      "PROGRESS: | 7         | 15       | 1.000000  | 18.671073    | 4.983361           | 6.186674             | 0.815706      | 1.186572        |\n",
      "PROGRESS: | 8         | 16       | 1.000000  | 20.528090    | 5.195477           | 6.553252             | 0.810981      | 1.188204        |\n",
      "PROGRESS: | 9         | 17       | 1.000000  | 22.214711    | 5.370052           | 6.683523             | 0.807812      | 1.183559        |\n",
      "PROGRESS: | 10        | 18       | 1.000000  | 23.797638    | 5.606338           | 6.679604             | 0.804634      | 1.178517        |\n",
      "PROGRESS: +-----------+----------+-----------+--------------+--------------------+----------------------+---------------+-----------------+\n"
     ]
    }
   ],
   "source": [
    "model = gl.linear_regression.create(train_set, target='stars', \n",
    "                                    features = ['user_id', 'business_id', 'categories_dict', 'negative_review_tags', \n",
    "                                                'user_avg_stars', 'votes', 'business_avg_stars'])"
   ]
  },
  {
   "cell_type": "code",
   "execution_count": 78,
   "metadata": {
    "collapsed": false,
    "run_control": {
     "breakpoint": false,
     "state": "n"
    }
   },
   "outputs": [
    {
     "data": {
      "text/plain": [
       "dtype: dict\n",
       "Rows: 5\n",
       "[{'Health & Medical': 1, 'Doctors': 1}, {'Health & Medical': 1, 'Doctors': 1}, {'Mini Golf': 1, 'Golf': 1, 'Active Life': 1}, {'Mini Golf': 1, 'Golf': 1, 'Active Life': 1}, {'Bars': 1, 'Restaurants': 1, 'Nightlife': 1, 'Lounges': 1, 'American (New)': 1}]"
      ]
     },
     "execution_count": 78,
     "metadata": {},
     "output_type": "execute_result"
    }
   ],
   "source": [
    "test_set['categories_dict'] = test_set.apply(lambda row: tags_to_dict(row['categories']))\n",
    "test_set['categories_dict'].head(5)"
   ]
  },
  {
   "cell_type": "code",
   "execution_count": 77,
   "metadata": {
    "collapsed": false,
    "run_control": {
     "breakpoint": false,
     "state": "n"
    }
   },
   "outputs": [
    {
     "data": {
      "text/plain": [
       "{'max_error': 8.657070551187037, 'rmse': 1.1805045828921503}"
      ]
     },
     "execution_count": 77,
     "metadata": {},
     "output_type": "execute_result"
    }
   ],
   "source": [
    "test_set['negative_review_tags'] = gl.text_analytics.count_words(test_set['text'])\n",
    "test_set['negative_review_tags'] = test_set['negative_review_tags'].dict_trim_by_keys(bad_review_words, exclude=False)\n",
    "\n",
    "model.evaluate(test_set)"
   ]
  }
 ],
 "metadata": {
  "celltoolbar": "Raw Cell Format",
  "kernelspec": {
   "display_name": "Python 2",
   "language": "python",
   "name": "python2"
  },
  "language_info": {
   "codemirror_mode": {
    "name": "ipython",
    "version": 2
   },
   "file_extension": ".py",
   "mimetype": "text/x-python",
   "name": "python",
   "nbconvert_exporter": "python",
   "pygments_lexer": "ipython2",
   "version": "2.7.10"
  }
 },
 "nbformat": 4,
 "nbformat_minor": 0
}
